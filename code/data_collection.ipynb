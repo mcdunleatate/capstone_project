{
 "cells": [
  {
   "cell_type": "code",
   "execution_count": 150,
   "id": "0b89159f-ccab-41a2-a4c8-484dde37c748",
   "metadata": {
    "tags": []
   },
   "outputs": [],
   "source": [
    "import requests\n",
    "import secrets\n",
    "import time\n",
    "import os\n",
    "import pandas as pd\n",
    "import numpy as np\n",
    "from dotenv import load_dotenv\n",
    "from bs4 import BeautifulSoup\n",
    "from datetime import datetime\n",
    "import matplotlib.pyplot as plt\n",
    "import yfinance as yf"
   ]
  },
  {
   "cell_type": "code",
   "execution_count": 11,
   "id": "84b9a9bf",
   "metadata": {
    "tags": []
   },
   "outputs": [],
   "source": [
    "# Bringing in API-KEY\n",
    "load_dotenv('./.env')      \n",
    "key = os.getenv(\"API_KEY\")\n"
   ]
  },
  {
   "cell_type": "code",
   "execution_count": 117,
   "id": "6967725f",
   "metadata": {
    "tags": []
   },
   "outputs": [],
   "source": [
    "list_of_files = ['arkham_txns.csv','arkham_txns (10).csv','arkham_txns (9).csv']#,'arkham_txns (1).csv','arkham_txns (2).csv','arkham_txns (3).csv','arkham_txns (4).csv','arkham_txns (5).csv','arkham_txns (6).csv','arkham_txns (7).csv','arkham_txns (8).csv']\n",
    "\n",
    "current_transacts = pd.DataFrame()\n",
    "for i in list_of_files:\n",
    "    df = pd.read_csv(f\"../data/{i}\")\n",
    "    current_transacts = pd.concat([current_transacts, df], ignore_index=True)\n",
    "list_of_addresses = list(current_transacts['fromAddress'])+list(current_transacts['toAddress'])\n"
   ]
  },
  {
   "cell_type": "code",
   "execution_count": 118,
   "id": "c84d5be5-f169-481b-99ae-6acbe5d3b825",
   "metadata": {
    "tags": []
   },
   "outputs": [
    {
     "data": {
      "text/plain": [
       "20"
      ]
     },
     "execution_count": 118,
     "metadata": {},
     "output_type": "execute_result"
    }
   ],
   "source": [
    "list_of_addresses = list(set(list_of_addresses))\n",
    "len(list_of_addresses)"
   ]
  },
  {
   "cell_type": "code",
   "execution_count": 119,
   "id": "ae818ed2",
   "metadata": {
    "collapsed": true,
    "jupyter": {
     "outputs_hidden": true
    },
    "tags": []
   },
   "outputs": [
    {
     "name": "stdout",
     "output_type": "stream",
     "text": [
      "still going 0x5f4C28B8bAe491157b90a90c7AA57DF7f823343a\n",
      "still going 0xe35e9842fceaCA96570B734083f4a58e8F7C5f2A\n",
      "still going 0x31eF83a530Fde1B38EE9A18093A333D8Bbbc40D5\n",
      "still going 0x7444d1DCde03d554205D8655721C969A89De113F\n",
      "still going 0x0938C63109801Ee4243a487aB84DFfA2Bba4589e\n",
      "still going 0xeCc90d54B10ADd1ab746ABE7E83abe178B72aa9E\n",
      "still going 0xC5C3E9f4eF6Ee08906779DbC3B54896Ed4886a60\n",
      "still going 0xB5Ee21786D28c5Ba61661550879475976B707099\n",
      "still going 0xEB8350EA82b3852e63EFd1c55B2EF3f3BBabB938\n",
      "still going 0x8704EE9AB8622BbC25410C7D4717ED51f776c7f6\n",
      "still going 0xD6cCEDF2aF0e2885673F3e60CC43524333069C42\n",
      "still going 0x7EcAe810B6773b6B416e860acc945b1fAF11943f\n",
      "still going 0xf599C6d0dB97fed9180A163c73E9970c1e981F01\n",
      "still going 0xC25cEf6061Cf5dE5eb761b50E4743c1F5D7E5407\n",
      "still going 0xC4ABADE3a15064F9E3596943c699032748b13352\n",
      "still going 0x5Eb4ED9F745531221FAE41906e11d37642B15da6\n",
      "still going 0x23f53E7dF6fa555340b400dD6A2bd3D594B10BF3\n",
      "still going 0x0000000000000000000000000000000000000000\n",
      "still going 0x32226588378236Fd0c7c4053999F88aC0e5cAc77\n",
      "still going 0x7C68C7866A64FA2160F78EEaE12217FFbf871fa8\n"
     ]
    }
   ],
   "source": [
    "url = 'https://api.etherscan.io/api'\n",
    "all_transactions =[]\n",
    "\n",
    "\n",
    "for address in list_of_addresses:\n",
    "\n",
    "\n",
    "    page = 0\n",
    "    while True:\n",
    "        \n",
    "        params = {\n",
    "            'module': 'account',\n",
    "            'action': 'txlist',\n",
    "            'address': address,\n",
    "            'startblock': 0,\n",
    "            'endblock': 99999999,\n",
    "            'page': page,\n",
    "            'offset': 10,\n",
    "            'sort': 'asc',\n",
    "            'apikey': key\n",
    "        }\n",
    "        response = requests.get(url, params=params)\n",
    "        \n",
    "        if response.status_code == 200:\n",
    "            data = response.json()\n",
    "            \n",
    "            if data['result']:\n",
    "                all_transactions.extend(data['result'])\n",
    "                page+=1\n",
    "            else:\n",
    "                break\n",
    "        else:\n",
    "            break\n",
    "    print(f\"still going {address}\")\n",
    "\n",
    "            "
   ]
  },
  {
   "cell_type": "code",
   "execution_count": 120,
   "id": "b95ad8f8",
   "metadata": {
    "tags": []
   },
   "outputs": [
    {
     "data": {
      "text/plain": [
       "16024"
      ]
     },
     "execution_count": 120,
     "metadata": {},
     "output_type": "execute_result"
    }
   ],
   "source": [
    "len(all_transactions)"
   ]
  },
  {
   "cell_type": "code",
   "execution_count": 148,
   "id": "64dc5f2d",
   "metadata": {
    "tags": []
   },
   "outputs": [],
   "source": [
    "eth_df = pd.DataFrame(all_transactions)"
   ]
  },
  {
   "cell_type": "code",
   "execution_count": 149,
   "id": "9f8da5a8",
   "metadata": {},
   "outputs": [],
   "source": [
    "eth_df.to_csv('../data/eth_trans_data.csv')"
   ]
  },
  {
   "cell_type": "code",
   "execution_count": 136,
   "id": "3be6f0ab",
   "metadata": {},
   "outputs": [
    {
     "data": {
      "text/plain": [
       "True"
      ]
     },
     "execution_count": 136,
     "metadata": {},
     "output_type": "execute_result"
    }
   ],
   "source": [
    "'' in eth_df['txreceipt_status'].unique()"
   ]
  },
  {
   "cell_type": "code",
   "execution_count": 137,
   "id": "071027a5",
   "metadata": {},
   "outputs": [
    {
     "data": {
      "text/html": [
       "<div>\n",
       "<style scoped>\n",
       "    .dataframe tbody tr th:only-of-type {\n",
       "        vertical-align: middle;\n",
       "    }\n",
       "\n",
       "    .dataframe tbody tr th {\n",
       "        vertical-align: top;\n",
       "    }\n",
       "\n",
       "    .dataframe thead th {\n",
       "        text-align: right;\n",
       "    }\n",
       "</style>\n",
       "<table border=\"1\" class=\"dataframe\">\n",
       "  <thead>\n",
       "    <tr style=\"text-align: right;\">\n",
       "      <th></th>\n",
       "      <th>blockNumber</th>\n",
       "      <th>timeStamp</th>\n",
       "      <th>hash</th>\n",
       "      <th>nonce</th>\n",
       "      <th>blockHash</th>\n",
       "      <th>transactionIndex</th>\n",
       "      <th>from</th>\n",
       "      <th>to</th>\n",
       "      <th>value</th>\n",
       "      <th>gas</th>\n",
       "      <th>gasPrice</th>\n",
       "      <th>isError</th>\n",
       "      <th>txreceipt_status</th>\n",
       "      <th>input</th>\n",
       "      <th>contractAddress</th>\n",
       "      <th>cumulativeGasUsed</th>\n",
       "      <th>gasUsed</th>\n",
       "      <th>confirmations</th>\n",
       "      <th>methodId</th>\n",
       "      <th>functionName</th>\n",
       "    </tr>\n",
       "  </thead>\n",
       "  <tbody>\n",
       "    <tr>\n",
       "      <th>0</th>\n",
       "      <td>17136393.0</td>\n",
       "      <td>1.682585e+09</td>\n",
       "      <td>0x8366585ce739c108d93741d776596f93c16983d560b0...</td>\n",
       "      <td>36.0</td>\n",
       "      <td>0x7bcdb8aec9a817b3cde1cd7892608a7cb089e682a82a...</td>\n",
       "      <td>33.0</td>\n",
       "      <td>0x1833f626c2fbb5c51b7feeca189eb2ca95fb5aa6</td>\n",
       "      <td>0xe35e9842fceaca96570b734083f4a58e8f7c5f2a</td>\n",
       "      <td>788176968828575100</td>\n",
       "      <td>23332.0</td>\n",
       "      <td>3.529341e+10</td>\n",
       "      <td>0.0</td>\n",
       "      <td>1</td>\n",
       "      <td>0x1186ec330000000000000000000000001833f626c2fb...</td>\n",
       "      <td></td>\n",
       "      <td>2949253.0</td>\n",
       "      <td>23332.0</td>\n",
       "      <td>2044002.0</td>\n",
       "      <td>0x1186ec33</td>\n",
       "      <td>deposit(address recipient,address originToken,...</td>\n",
       "    </tr>\n",
       "    <tr>\n",
       "      <th>1</th>\n",
       "      <td>17149378.0</td>\n",
       "      <td>1.682743e+09</td>\n",
       "      <td>0xfa448c24afe28231f1e9d7ffa02197212e3eaaa7e7a3...</td>\n",
       "      <td>386.0</td>\n",
       "      <td>0xd81a9c262b025c1d9a55a4508a396094bc52ea973581...</td>\n",
       "      <td>44.0</td>\n",
       "      <td>0x980a9864331af230d08287a0e5f67fdb9bde4ce7</td>\n",
       "      <td>0xe35e9842fceaca96570b734083f4a58e8f7c5f2a</td>\n",
       "      <td>118320023500000000</td>\n",
       "      <td>23320.0</td>\n",
       "      <td>3.443975e+10</td>\n",
       "      <td>0.0</td>\n",
       "      <td>1</td>\n",
       "      <td>0x1186ec33000000000000000000000000980a9864331a...</td>\n",
       "      <td></td>\n",
       "      <td>3929836.0</td>\n",
       "      <td>23320.0</td>\n",
       "      <td>2031017.0</td>\n",
       "      <td>0x1186ec33</td>\n",
       "      <td>deposit(address recipient,address originToken,...</td>\n",
       "    </tr>\n",
       "    <tr>\n",
       "      <th>2</th>\n",
       "      <td>17932219.0</td>\n",
       "      <td>1.692247e+09</td>\n",
       "      <td>0x917b569c0740d61555781173c18b1dabd9370566b996...</td>\n",
       "      <td>157.0</td>\n",
       "      <td>0x6669a0555cec9767cda3e61651880e076d7dd824d62e...</td>\n",
       "      <td>53.0</td>\n",
       "      <td>0x964edb5c66f6f974684cfcd22738c49664f1bf16</td>\n",
       "      <td>0xe35e9842fceaca96570b734083f4a58e8f7c5f2a</td>\n",
       "      <td>48492223253902017</td>\n",
       "      <td>23320.0</td>\n",
       "      <td>1.751511e+10</td>\n",
       "      <td>0.0</td>\n",
       "      <td>1</td>\n",
       "      <td>0x1186ec33000000000000000000000000964edb5c66f6...</td>\n",
       "      <td></td>\n",
       "      <td>5929118.0</td>\n",
       "      <td>23320.0</td>\n",
       "      <td>1248176.0</td>\n",
       "      <td>0x1186ec33</td>\n",
       "      <td>deposit(address recipient,address originToken,...</td>\n",
       "    </tr>\n",
       "    <tr>\n",
       "      <th>3</th>\n",
       "      <td>18206076.0</td>\n",
       "      <td>1.695564e+09</td>\n",
       "      <td>0x172f6254a710be70e605d6154c67c33c0d1d9ff422aa...</td>\n",
       "      <td>2108.0</td>\n",
       "      <td>0xca7e163f2c2f57770a6fb204acbc1e5abcefad275e08...</td>\n",
       "      <td>30.0</td>\n",
       "      <td>0x9f9ebce72c0715cdbad4d589986eb22f6782a1ce</td>\n",
       "      <td>0xe35e9842fceaca96570b734083f4a58e8f7c5f2a</td>\n",
       "      <td>1000000000000000</td>\n",
       "      <td>34980.0</td>\n",
       "      <td>9.000000e+09</td>\n",
       "      <td>0.0</td>\n",
       "      <td>1</td>\n",
       "      <td>0x1186ec330000000000000000000000009f9ebce72c07...</td>\n",
       "      <td></td>\n",
       "      <td>2489623.0</td>\n",
       "      <td>23320.0</td>\n",
       "      <td>974319.0</td>\n",
       "      <td>0x1186ec33</td>\n",
       "      <td>deposit(address recipient,address originToken,...</td>\n",
       "    </tr>\n",
       "    <tr>\n",
       "      <th>4</th>\n",
       "      <td>18873557.0</td>\n",
       "      <td>1.703638e+09</td>\n",
       "      <td>0xfb1704cbfa2b8b8c97ecfaee4849c0bdc60f6901aa84...</td>\n",
       "      <td>34.0</td>\n",
       "      <td>0x15ffd876b18b93d921be759f929d528c0e1656717ac8...</td>\n",
       "      <td>58.0</td>\n",
       "      <td>0x2dacd3c3ffe8bf9bfca57de0785e934bc689445d</td>\n",
       "      <td>0xe35e9842fceaca96570b734083f4a58e8f7c5f2a</td>\n",
       "      <td>0</td>\n",
       "      <td>701084.0</td>\n",
       "      <td>1.434217e+10</td>\n",
       "      <td>0.0</td>\n",
       "      <td>1</td>\n",
       "      <td>0x1186ec330000000000000000000000002dacd3c3ffe8...</td>\n",
       "      <td></td>\n",
       "      <td>6295955.0</td>\n",
       "      <td>23332.0</td>\n",
       "      <td>306838.0</td>\n",
       "      <td>0x1186ec33</td>\n",
       "      <td>deposit(address recipient,address originToken,...</td>\n",
       "    </tr>\n",
       "  </tbody>\n",
       "</table>\n",
       "</div>"
      ],
      "text/plain": [
       "   blockNumber     timeStamp  \\\n",
       "0   17136393.0  1.682585e+09   \n",
       "1   17149378.0  1.682743e+09   \n",
       "2   17932219.0  1.692247e+09   \n",
       "3   18206076.0  1.695564e+09   \n",
       "4   18873557.0  1.703638e+09   \n",
       "\n",
       "                                                hash   nonce  \\\n",
       "0  0x8366585ce739c108d93741d776596f93c16983d560b0...    36.0   \n",
       "1  0xfa448c24afe28231f1e9d7ffa02197212e3eaaa7e7a3...   386.0   \n",
       "2  0x917b569c0740d61555781173c18b1dabd9370566b996...   157.0   \n",
       "3  0x172f6254a710be70e605d6154c67c33c0d1d9ff422aa...  2108.0   \n",
       "4  0xfb1704cbfa2b8b8c97ecfaee4849c0bdc60f6901aa84...    34.0   \n",
       "\n",
       "                                           blockHash  transactionIndex  \\\n",
       "0  0x7bcdb8aec9a817b3cde1cd7892608a7cb089e682a82a...              33.0   \n",
       "1  0xd81a9c262b025c1d9a55a4508a396094bc52ea973581...              44.0   \n",
       "2  0x6669a0555cec9767cda3e61651880e076d7dd824d62e...              53.0   \n",
       "3  0xca7e163f2c2f57770a6fb204acbc1e5abcefad275e08...              30.0   \n",
       "4  0x15ffd876b18b93d921be759f929d528c0e1656717ac8...              58.0   \n",
       "\n",
       "                                         from  \\\n",
       "0  0x1833f626c2fbb5c51b7feeca189eb2ca95fb5aa6   \n",
       "1  0x980a9864331af230d08287a0e5f67fdb9bde4ce7   \n",
       "2  0x964edb5c66f6f974684cfcd22738c49664f1bf16   \n",
       "3  0x9f9ebce72c0715cdbad4d589986eb22f6782a1ce   \n",
       "4  0x2dacd3c3ffe8bf9bfca57de0785e934bc689445d   \n",
       "\n",
       "                                           to               value       gas  \\\n",
       "0  0xe35e9842fceaca96570b734083f4a58e8f7c5f2a  788176968828575100   23332.0   \n",
       "1  0xe35e9842fceaca96570b734083f4a58e8f7c5f2a  118320023500000000   23320.0   \n",
       "2  0xe35e9842fceaca96570b734083f4a58e8f7c5f2a   48492223253902017   23320.0   \n",
       "3  0xe35e9842fceaca96570b734083f4a58e8f7c5f2a    1000000000000000   34980.0   \n",
       "4  0xe35e9842fceaca96570b734083f4a58e8f7c5f2a                   0  701084.0   \n",
       "\n",
       "       gasPrice  isError txreceipt_status  \\\n",
       "0  3.529341e+10      0.0                1   \n",
       "1  3.443975e+10      0.0                1   \n",
       "2  1.751511e+10      0.0                1   \n",
       "3  9.000000e+09      0.0                1   \n",
       "4  1.434217e+10      0.0                1   \n",
       "\n",
       "                                               input contractAddress  \\\n",
       "0  0x1186ec330000000000000000000000001833f626c2fb...                   \n",
       "1  0x1186ec33000000000000000000000000980a9864331a...                   \n",
       "2  0x1186ec33000000000000000000000000964edb5c66f6...                   \n",
       "3  0x1186ec330000000000000000000000009f9ebce72c07...                   \n",
       "4  0x1186ec330000000000000000000000002dacd3c3ffe8...                   \n",
       "\n",
       "   cumulativeGasUsed  gasUsed  confirmations    methodId  \\\n",
       "0          2949253.0  23332.0      2044002.0  0x1186ec33   \n",
       "1          3929836.0  23320.0      2031017.0  0x1186ec33   \n",
       "2          5929118.0  23320.0      1248176.0  0x1186ec33   \n",
       "3          2489623.0  23320.0       974319.0  0x1186ec33   \n",
       "4          6295955.0  23332.0       306838.0  0x1186ec33   \n",
       "\n",
       "                                        functionName  \n",
       "0  deposit(address recipient,address originToken,...  \n",
       "1  deposit(address recipient,address originToken,...  \n",
       "2  deposit(address recipient,address originToken,...  \n",
       "3  deposit(address recipient,address originToken,...  \n",
       "4  deposit(address recipient,address originToken,...  "
      ]
     },
     "execution_count": 137,
     "metadata": {},
     "output_type": "execute_result"
    }
   ],
   "source": [
    "int_list = ['blockNumber', 'timeStamp', 'nonce', 'transactionIndex', 'gas', 'gasPrice', 'isError', 'cumulativeGasUsed', 'gasUsed', 'confirmations']\n",
    "eth_df[int_list] = eth_df[int_list].astype(float)\n",
    "eth_df.head()\n"
   ]
  },
  {
   "cell_type": "code",
   "execution_count": 138,
   "id": "351f8df1",
   "metadata": {},
   "outputs": [
    {
     "data": {
      "text/plain": [
       "functionName\n",
       "                                                                                                                                                                                             10643\n",
       "transfer(address _to, uint256 _value)                                                                                                                                                         3171\n",
       "approve(address _spender, uint256 _value)                                                                                                                                                      563\n",
       "execTransaction(address to, uint256 value, bytes data, uint8 operation, uint256 safeTxGas, uint256 baseGas, uint256 gasPrice, address gasToken, address refundReceiver, bytes signatures)      498\n",
       "buyAndFree22457070633(uint256 amount)                                                                                                                                                          303\n",
       "                                                                                                                                                                                             ...  \n",
       "sendRepayment(address contractAddress)                                                                                                                                                           1\n",
       "setAdminRole(address user, bool state)                                                                                                                                                           1\n",
       "exchange(bytes4 sourceCurrencyKey, uint256 sourceAmount, bytes4 destinationCurrencyKey, address destinationAddress)                                                                              1\n",
       "tokenToTokenTransferInput(uint256 tokens_sold, uint256 min_tokens_bought, uint256 min_eth_bought, uint256 deadline, address recipient, address token_addr)                                       1\n",
       "ethToTokenSwapInput(uint256 min_tokens, uint256 deadline)                                                                                                                                        1\n",
       "Name: count, Length: 77, dtype: int64"
      ]
     },
     "execution_count": 138,
     "metadata": {},
     "output_type": "execute_result"
    }
   ],
   "source": [
    "eth_df['functionName'].value_counts()"
   ]
  },
  {
   "cell_type": "code",
   "execution_count": 139,
   "id": "dc8b4c8d",
   "metadata": {},
   "outputs": [
    {
     "name": "stdout",
     "output_type": "stream",
     "text": [
      "1707200003.0 1438922865.0\n"
     ]
    },
    {
     "data": {
      "image/png": "[encoded data removed]",
      "text/plain": [
       "<Figure size 640x480 with 1 Axes>"
      ]
     },
     "metadata": {},
     "output_type": "display_data"
    }
   ],
   "source": [
    "plt.hist(eth_df['timeStamp'], bins=100);\n",
    "print(max(eth_df['timeStamp']), min(eth_df['timeStamp']))"
   ]
  },
  {
   "cell_type": "code",
   "execution_count": 140,
   "id": "4d655b41",
   "metadata": {},
   "outputs": [
    {
     "data": {
      "text/plain": [
       "(16024, 20)"
      ]
     },
     "execution_count": 140,
     "metadata": {},
     "output_type": "execute_result"
    }
   ],
   "source": [
    "eth_df.shape"
   ]
  },
  {
   "cell_type": "code",
   "execution_count": 141,
   "id": "47ac3b0d",
   "metadata": {},
   "outputs": [
    {
     "data": {
      "text/html": [
       "<div>\n",
       "<style scoped>\n",
       "    .dataframe tbody tr th:only-of-type {\n",
       "        vertical-align: middle;\n",
       "    }\n",
       "\n",
       "    .dataframe tbody tr th {\n",
       "        vertical-align: top;\n",
       "    }\n",
       "\n",
       "    .dataframe thead th {\n",
       "        text-align: right;\n",
       "    }\n",
       "</style>\n",
       "<table border=\"1\" class=\"dataframe\">\n",
       "  <thead>\n",
       "    <tr style=\"text-align: right;\">\n",
       "      <th></th>\n",
       "      <th>blockNumber</th>\n",
       "      <th>timeStamp</th>\n",
       "      <th>hash</th>\n",
       "      <th>nonce</th>\n",
       "      <th>blockHash</th>\n",
       "      <th>transactionIndex</th>\n",
       "      <th>from</th>\n",
       "      <th>to</th>\n",
       "      <th>value</th>\n",
       "      <th>gas</th>\n",
       "      <th>...</th>\n",
       "      <th>isError</th>\n",
       "      <th>txreceipt_status</th>\n",
       "      <th>input</th>\n",
       "      <th>contractAddress</th>\n",
       "      <th>cumulativeGasUsed</th>\n",
       "      <th>gasUsed</th>\n",
       "      <th>confirmations</th>\n",
       "      <th>methodId</th>\n",
       "      <th>functionName</th>\n",
       "      <th>dateTime</th>\n",
       "    </tr>\n",
       "  </thead>\n",
       "  <tbody>\n",
       "    <tr>\n",
       "      <th>0</th>\n",
       "      <td>17136393.0</td>\n",
       "      <td>1.682585e+09</td>\n",
       "      <td>0x8366585ce739c108d93741d776596f93c16983d560b0...</td>\n",
       "      <td>36.0</td>\n",
       "      <td>0x7bcdb8aec9a817b3cde1cd7892608a7cb089e682a82a...</td>\n",
       "      <td>33.0</td>\n",
       "      <td>0x1833f626c2fbb5c51b7feeca189eb2ca95fb5aa6</td>\n",
       "      <td>0xe35e9842fceaca96570b734083f4a58e8f7c5f2a</td>\n",
       "      <td>788176968828575100</td>\n",
       "      <td>23332.0</td>\n",
       "      <td>...</td>\n",
       "      <td>0.0</td>\n",
       "      <td>1</td>\n",
       "      <td>0x1186ec330000000000000000000000001833f626c2fb...</td>\n",
       "      <td></td>\n",
       "      <td>2949253.0</td>\n",
       "      <td>23332.0</td>\n",
       "      <td>2044002.0</td>\n",
       "      <td>0x1186ec33</td>\n",
       "      <td>deposit(address recipient,address originToken,...</td>\n",
       "      <td>2023-04-27 08:40:23</td>\n",
       "    </tr>\n",
       "    <tr>\n",
       "      <th>1</th>\n",
       "      <td>17149378.0</td>\n",
       "      <td>1.682743e+09</td>\n",
       "      <td>0xfa448c24afe28231f1e9d7ffa02197212e3eaaa7e7a3...</td>\n",
       "      <td>386.0</td>\n",
       "      <td>0xd81a9c262b025c1d9a55a4508a396094bc52ea973581...</td>\n",
       "      <td>44.0</td>\n",
       "      <td>0x980a9864331af230d08287a0e5f67fdb9bde4ce7</td>\n",
       "      <td>0xe35e9842fceaca96570b734083f4a58e8f7c5f2a</td>\n",
       "      <td>118320023500000000</td>\n",
       "      <td>23320.0</td>\n",
       "      <td>...</td>\n",
       "      <td>0.0</td>\n",
       "      <td>1</td>\n",
       "      <td>0x1186ec33000000000000000000000000980a9864331a...</td>\n",
       "      <td></td>\n",
       "      <td>3929836.0</td>\n",
       "      <td>23320.0</td>\n",
       "      <td>2031017.0</td>\n",
       "      <td>0x1186ec33</td>\n",
       "      <td>deposit(address recipient,address originToken,...</td>\n",
       "      <td>2023-04-29 04:28:23</td>\n",
       "    </tr>\n",
       "    <tr>\n",
       "      <th>2</th>\n",
       "      <td>17932219.0</td>\n",
       "      <td>1.692247e+09</td>\n",
       "      <td>0x917b569c0740d61555781173c18b1dabd9370566b996...</td>\n",
       "      <td>157.0</td>\n",
       "      <td>0x6669a0555cec9767cda3e61651880e076d7dd824d62e...</td>\n",
       "      <td>53.0</td>\n",
       "      <td>0x964edb5c66f6f974684cfcd22738c49664f1bf16</td>\n",
       "      <td>0xe35e9842fceaca96570b734083f4a58e8f7c5f2a</td>\n",
       "      <td>48492223253902017</td>\n",
       "      <td>23320.0</td>\n",
       "      <td>...</td>\n",
       "      <td>0.0</td>\n",
       "      <td>1</td>\n",
       "      <td>0x1186ec33000000000000000000000000964edb5c66f6...</td>\n",
       "      <td></td>\n",
       "      <td>5929118.0</td>\n",
       "      <td>23320.0</td>\n",
       "      <td>1248176.0</td>\n",
       "      <td>0x1186ec33</td>\n",
       "      <td>deposit(address recipient,address originToken,...</td>\n",
       "      <td>2023-08-17 04:41:23</td>\n",
       "    </tr>\n",
       "    <tr>\n",
       "      <th>3</th>\n",
       "      <td>18206076.0</td>\n",
       "      <td>1.695564e+09</td>\n",
       "      <td>0x172f6254a710be70e605d6154c67c33c0d1d9ff422aa...</td>\n",
       "      <td>2108.0</td>\n",
       "      <td>0xca7e163f2c2f57770a6fb204acbc1e5abcefad275e08...</td>\n",
       "      <td>30.0</td>\n",
       "      <td>0x9f9ebce72c0715cdbad4d589986eb22f6782a1ce</td>\n",
       "      <td>0xe35e9842fceaca96570b734083f4a58e8f7c5f2a</td>\n",
       "      <td>1000000000000000</td>\n",
       "      <td>34980.0</td>\n",
       "      <td>...</td>\n",
       "      <td>0.0</td>\n",
       "      <td>1</td>\n",
       "      <td>0x1186ec330000000000000000000000009f9ebce72c07...</td>\n",
       "      <td></td>\n",
       "      <td>2489623.0</td>\n",
       "      <td>23320.0</td>\n",
       "      <td>974319.0</td>\n",
       "      <td>0x1186ec33</td>\n",
       "      <td>deposit(address recipient,address originToken,...</td>\n",
       "      <td>2023-09-24 13:52:59</td>\n",
       "    </tr>\n",
       "    <tr>\n",
       "      <th>4</th>\n",
       "      <td>18873557.0</td>\n",
       "      <td>1.703638e+09</td>\n",
       "      <td>0xfb1704cbfa2b8b8c97ecfaee4849c0bdc60f6901aa84...</td>\n",
       "      <td>34.0</td>\n",
       "      <td>0x15ffd876b18b93d921be759f929d528c0e1656717ac8...</td>\n",
       "      <td>58.0</td>\n",
       "      <td>0x2dacd3c3ffe8bf9bfca57de0785e934bc689445d</td>\n",
       "      <td>0xe35e9842fceaca96570b734083f4a58e8f7c5f2a</td>\n",
       "      <td>0</td>\n",
       "      <td>701084.0</td>\n",
       "      <td>...</td>\n",
       "      <td>0.0</td>\n",
       "      <td>1</td>\n",
       "      <td>0x1186ec330000000000000000000000002dacd3c3ffe8...</td>\n",
       "      <td></td>\n",
       "      <td>6295955.0</td>\n",
       "      <td>23332.0</td>\n",
       "      <td>306838.0</td>\n",
       "      <td>0x1186ec33</td>\n",
       "      <td>deposit(address recipient,address originToken,...</td>\n",
       "      <td>2023-12-27 00:52:47</td>\n",
       "    </tr>\n",
       "  </tbody>\n",
       "</table>\n",
       "<p>5 rows × 21 columns</p>\n",
       "</div>"
      ],
      "text/plain": [
       "   blockNumber     timeStamp  \\\n",
       "0   17136393.0  1.682585e+09   \n",
       "1   17149378.0  1.682743e+09   \n",
       "2   17932219.0  1.692247e+09   \n",
       "3   18206076.0  1.695564e+09   \n",
       "4   18873557.0  1.703638e+09   \n",
       "\n",
       "                                                hash   nonce  \\\n",
       "0  0x8366585ce739c108d93741d776596f93c16983d560b0...    36.0   \n",
       "1  0xfa448c24afe28231f1e9d7ffa02197212e3eaaa7e7a3...   386.0   \n",
       "2  0x917b569c0740d61555781173c18b1dabd9370566b996...   157.0   \n",
       "3  0x172f6254a710be70e605d6154c67c33c0d1d9ff422aa...  2108.0   \n",
       "4  0xfb1704cbfa2b8b8c97ecfaee4849c0bdc60f6901aa84...    34.0   \n",
       "\n",
       "                                           blockHash  transactionIndex  \\\n",
       "0  0x7bcdb8aec9a817b3cde1cd7892608a7cb089e682a82a...              33.0   \n",
       "1  0xd81a9c262b025c1d9a55a4508a396094bc52ea973581...              44.0   \n",
       "2  0x6669a0555cec9767cda3e61651880e076d7dd824d62e...              53.0   \n",
       "3  0xca7e163f2c2f57770a6fb204acbc1e5abcefad275e08...              30.0   \n",
       "4  0x15ffd876b18b93d921be759f929d528c0e1656717ac8...              58.0   \n",
       "\n",
       "                                         from  \\\n",
       "0  0x1833f626c2fbb5c51b7feeca189eb2ca95fb5aa6   \n",
       "1  0x980a9864331af230d08287a0e5f67fdb9bde4ce7   \n",
       "2  0x964edb5c66f6f974684cfcd22738c49664f1bf16   \n",
       "3  0x9f9ebce72c0715cdbad4d589986eb22f6782a1ce   \n",
       "4  0x2dacd3c3ffe8bf9bfca57de0785e934bc689445d   \n",
       "\n",
       "                                           to               value       gas  \\\n",
       "0  0xe35e9842fceaca96570b734083f4a58e8f7c5f2a  788176968828575100   23332.0   \n",
       "1  0xe35e9842fceaca96570b734083f4a58e8f7c5f2a  118320023500000000   23320.0   \n",
       "2  0xe35e9842fceaca96570b734083f4a58e8f7c5f2a   48492223253902017   23320.0   \n",
       "3  0xe35e9842fceaca96570b734083f4a58e8f7c5f2a    1000000000000000   34980.0   \n",
       "4  0xe35e9842fceaca96570b734083f4a58e8f7c5f2a                   0  701084.0   \n",
       "\n",
       "   ...  isError  txreceipt_status  \\\n",
       "0  ...      0.0                 1   \n",
       "1  ...      0.0                 1   \n",
       "2  ...      0.0                 1   \n",
       "3  ...      0.0                 1   \n",
       "4  ...      0.0                 1   \n",
       "\n",
       "                                               input contractAddress  \\\n",
       "0  0x1186ec330000000000000000000000001833f626c2fb...                   \n",
       "1  0x1186ec33000000000000000000000000980a9864331a...                   \n",
       "2  0x1186ec33000000000000000000000000964edb5c66f6...                   \n",
       "3  0x1186ec330000000000000000000000009f9ebce72c07...                   \n",
       "4  0x1186ec330000000000000000000000002dacd3c3ffe8...                   \n",
       "\n",
       "  cumulativeGasUsed  gasUsed  confirmations    methodId  \\\n",
       "0         2949253.0  23332.0      2044002.0  0x1186ec33   \n",
       "1         3929836.0  23320.0      2031017.0  0x1186ec33   \n",
       "2         5929118.0  23320.0      1248176.0  0x1186ec33   \n",
       "3         2489623.0  23320.0       974319.0  0x1186ec33   \n",
       "4         6295955.0  23332.0       306838.0  0x1186ec33   \n",
       "\n",
       "                                        functionName            dateTime  \n",
       "0  deposit(address recipient,address originToken,... 2023-04-27 08:40:23  \n",
       "1  deposit(address recipient,address originToken,... 2023-04-29 04:28:23  \n",
       "2  deposit(address recipient,address originToken,... 2023-08-17 04:41:23  \n",
       "3  deposit(address recipient,address originToken,... 2023-09-24 13:52:59  \n",
       "4  deposit(address recipient,address originToken,... 2023-12-27 00:52:47  \n",
       "\n",
       "[5 rows x 21 columns]"
      ]
     },
     "execution_count": 141,
     "metadata": {},
     "output_type": "execute_result"
    }
   ],
   "source": [
    "eth_df['dateTime'] = pd.to_datetime(eth_df['timeStamp'], unit='s')\n",
    "eth_df.head()"
   ]
  },
  {
   "cell_type": "code",
   "execution_count": 142,
   "id": "3bc9df31",
   "metadata": {},
   "outputs": [
    {
     "data": {
      "image/png": "[encoded data removed]",
      "text/plain": [
       "<Figure size 640x480 with 1 Axes>"
      ]
     },
     "metadata": {},
     "output_type": "display_data"
    }
   ],
   "source": [
    "plt.hist(eth_df['dateTime'], bins=50);"
   ]
  },
  {
   "cell_type": "code",
   "execution_count": 143,
   "id": "18fa1bbe",
   "metadata": {},
   "outputs": [
    {
     "data": {
      "text/plain": [
       "from\n",
       "0xc8a5ba5868a5e9849962167b2f99b2040cee2031    3480\n",
       "0xbc28029d248fc60bce0bac01cf41a53aeeae06f9    2231\n",
       "0x4d4ffb448194504242267585f0ea6f9de6a96de3     635\n",
       "0xb5d441eb94950ee0efbb825c45d6358c53e06f0b     416\n",
       "0xd8c96ee029945fe1b4272035b704dc52ebcdf051     396\n",
       "                                              ... \n",
       "0xd3924f3d53064e1840bcf09c71e0857a48177a32       1\n",
       "0x5d907bf773a9b58fe082ee542ee8cbb8649615a6       1\n",
       "0x1118e5a3bdccee57085f19e662fde7c5c19cf9b6       1\n",
       "0x811814d26abe1699b2757e1bf80f5d006339895f       1\n",
       "0xbd271b69d346bbab04172bc91a44a008fbe6705b       1\n",
       "Name: count, Length: 1124, dtype: int64"
      ]
     },
     "execution_count": 143,
     "metadata": {},
     "output_type": "execute_result"
    }
   ],
   "source": [
    "eth_df['from'].value_counts()"
   ]
  },
  {
   "cell_type": "code",
   "execution_count": 145,
   "id": "732582f3",
   "metadata": {},
   "outputs": [],
   "source": [
    "eth_df['timeOnly'] = eth_df['dateTime'].dt.time\n",
    "eth_df['hours'] = eth_df['timeOnly'].apply(lambda x: x.hour)"
   ]
  },
  {
   "cell_type": "code",
   "execution_count": 146,
   "id": "a55e12f1",
   "metadata": {},
   "outputs": [
    {
     "data": {
      "text/plain": [
       "(array([407., 484., 460., 519., 334., 391., 444., 395., 344., 388., 383.,\n",
       "        503., 426., 528., 904., 467., 460., 522., 390., 385., 386., 418.,\n",
       "        323., 382.]),\n",
       " array([ 0.        ,  0.95833333,  1.91666667,  2.875     ,  3.83333333,\n",
       "         4.79166667,  5.75      ,  6.70833333,  7.66666667,  8.625     ,\n",
       "         9.58333333, 10.54166667, 11.5       , 12.45833333, 13.41666667,\n",
       "        14.375     , 15.33333333, 16.29166667, 17.25      , 18.20833333,\n",
       "        19.16666667, 20.125     , 21.08333333, 22.04166667, 23.        ]),\n",
       " <BarContainer object of 24 artists>)"
      ]
     },
     "execution_count": 146,
     "metadata": {},
     "output_type": "execute_result"
    },
    {
     "data": {
      "image/png": "[encoded data removed]",
      "text/plain": [
       "<Figure size 640x480 with 1 Axes>"
      ]
     },
     "metadata": {},
     "output_type": "display_data"
    }
   ],
   "source": [
    "\n",
    "\n",
    "plt.hist(eth_df.groupby('functionName').get_group('')['hours'], bins=24)"
   ]
  },
  {
   "cell_type": "code",
   "execution_count": null,
   "id": "04e9b7c4",
   "metadata": {},
   "outputs": [
    {
     "data": {
      "image/png": "[encoded data removed]",
      "text/plain": [
       "<Figure size 640x480 with 1 Axes>"
      ]
     },
     "metadata": {},
     "output_type": "display_data"
    }
   ],
   "source": [
    "eth_df['timeOnly'] = eth_df['dateTime'].dt.time\n",
    "eth_df['hours'] = eth_df['timeOnly'].apply(lambda x: x.hour)\n",
    "plt.hist(eth_df['hours'], bins=20, color='skyblue', edgecolor='black')\n",
    "plt.xticks(rotation=45, ha='right');\n"
   ]
  },
  {
   "cell_type": "code",
   "execution_count": null,
   "id": "7ec8207f",
   "metadata": {},
   "outputs": [
    {
     "data": {
      "image/png": "[encoded data removed]",
      "text/plain": [
       "<Figure size 640x480 with 1 Axes>"
      ]
     },
     "metadata": {},
     "output_type": "display_data"
    }
   ],
   "source": [
    "plt.hist(eth_df['value'], bins = 100);\n",
    "\n"
   ]
  },
  {
   "cell_type": "code",
   "execution_count": 151,
   "id": "c50c9e74",
   "metadata": {},
   "outputs": [
    {
     "name": "stderr",
     "output_type": "stream",
     "text": [
      "[*********************100%%**********************]  1 of 1 completed\n"
     ]
    },
    {
     "data": {
      "text/html": [
       "<div>\n",
       "<style scoped>\n",
       "    .dataframe tbody tr th:only-of-type {\n",
       "        vertical-align: middle;\n",
       "    }\n",
       "\n",
       "    .dataframe tbody tr th {\n",
       "        vertical-align: top;\n",
       "    }\n",
       "\n",
       "    .dataframe thead th {\n",
       "        text-align: right;\n",
       "    }\n",
       "</style>\n",
       "<table border=\"1\" class=\"dataframe\">\n",
       "  <thead>\n",
       "    <tr style=\"text-align: right;\">\n",
       "      <th></th>\n",
       "      <th>Open</th>\n",
       "      <th>High</th>\n",
       "      <th>Low</th>\n",
       "      <th>Close</th>\n",
       "      <th>Adj Close</th>\n",
       "      <th>Volume</th>\n",
       "    </tr>\n",
       "    <tr>\n",
       "      <th>Date</th>\n",
       "      <th></th>\n",
       "      <th></th>\n",
       "      <th></th>\n",
       "      <th></th>\n",
       "      <th></th>\n",
       "      <th></th>\n",
       "    </tr>\n",
       "  </thead>\n",
       "  <tbody>\n",
       "    <tr>\n",
       "      <th>2017-11-09</th>\n",
       "      <td>308.644989</td>\n",
       "      <td>329.451996</td>\n",
       "      <td>307.056000</td>\n",
       "      <td>320.884003</td>\n",
       "      <td>320.884003</td>\n",
       "      <td>893249984</td>\n",
       "    </tr>\n",
       "    <tr>\n",
       "      <th>2017-11-10</th>\n",
       "      <td>320.670990</td>\n",
       "      <td>324.717987</td>\n",
       "      <td>294.541992</td>\n",
       "      <td>299.252991</td>\n",
       "      <td>299.252991</td>\n",
       "      <td>885985984</td>\n",
       "    </tr>\n",
       "    <tr>\n",
       "      <th>2017-11-11</th>\n",
       "      <td>298.585999</td>\n",
       "      <td>319.453003</td>\n",
       "      <td>298.191986</td>\n",
       "      <td>314.681000</td>\n",
       "      <td>314.681000</td>\n",
       "      <td>842300992</td>\n",
       "    </tr>\n",
       "  </tbody>\n",
       "</table>\n",
       "</div>"
      ],
      "text/plain": [
       "                  Open        High         Low       Close   Adj Close  \\\n",
       "Date                                                                     \n",
       "2017-11-09  308.644989  329.451996  307.056000  320.884003  320.884003   \n",
       "2017-11-10  320.670990  324.717987  294.541992  299.252991  299.252991   \n",
       "2017-11-11  298.585999  319.453003  298.191986  314.681000  314.681000   \n",
       "\n",
       "               Volume  \n",
       "Date                   \n",
       "2017-11-09  893249984  \n",
       "2017-11-10  885985984  \n",
       "2017-11-11  842300992  "
      ]
     },
     "execution_count": 151,
     "metadata": {},
     "output_type": "execute_result"
    }
   ],
   "source": [
    "eth_ticker = \"ETH-USD\"\n",
    "\n",
    "start_d = \"2015-08-01\"\n",
    "end_d = \"2024-02-01\"\n",
    "\n",
    "price_eth = yf.download(eth_ticker, start = start_d, end = end_d)\n",
    "\n"
   ]
  },
  {
   "cell_type": "code",
   "execution_count": 155,
   "id": "916b2759",
   "metadata": {},
   "outputs": [],
   "source": [
    "price_eth = price_eth.sort_index()\n",
    "price_eth_close = price_eth['Close']\n",
    "price_eth_close.to_csv('../data/eth_price_per_day.csv')"
   ]
  },
  {
   "cell_type": "code",
   "execution_count": null,
   "id": "eb9c0acb",
   "metadata": {},
   "outputs": [],
   "source": []
  }
 ],
 "metadata": {
  "kernelspec": {
   "display_name": "Python 3 (ipykernel)",
   "language": "python",
   "name": "python3"
  },
  "language_info": {
   "codemirror_mode": {
    "name": "ipython",
    "version": 3
   },
   "file_extension": ".py",
   "mimetype": "text/x-python",
   "name": "python",
   "nbconvert_exporter": "python",
   "pygments_lexer": "ipython3",
   "version": "3.11.5"
  }
 },
 "nbformat": 4,
 "nbformat_minor": 5
}
