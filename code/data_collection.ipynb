{
 "cells": [
  {
   "cell_type": "markdown",
   "id": "8c37fd73",
   "metadata": {},
   "source": [
    "# Data Collection\n",
    "---"
   ]
  },
  {
   "cell_type": "markdown",
   "id": "d809a288",
   "metadata": {},
   "source": [
    "This project involves the collection of Ethereum transaction data from Arkham Intelligence, focusing on addresses of interest. To enhance efficiency, data collection is conducted in two stages, leveraging the Etherscan.io API. Additionally, historical Ethereum value data is retrieved using the Yahoo Finance API.\n",
    "\n",
    "## Data Sources\n",
    "\n",
    "1. **Arkham Intelligence:**\n",
    "   - Ethereum addresses of interest are identified using Arkham Intelligence.\n",
    "\n",
    "2. **Etherscan.io API:**\n",
    "   - Utilized to collect detailed information about transactions associated with each Ethereum address.\n",
    "   - The data is collected in two stages to optimize efficiency.\n",
    "\n",
    "3. **Yahoo Finance API:**\n",
    "   - Employed to retrieve historical values of Ethereum."
   ]
  },
  {
   "cell_type": "code",
   "execution_count": 1,
   "id": "0b89159f-ccab-41a2-a4c8-484dde37c748",
   "metadata": {
    "tags": []
   },
   "outputs": [],
   "source": [
    "import requests\n",
    "import os\n",
    "import pandas as pd\n",
    "from dotenv import load_dotenv\n",
    "import yfinance as yf"
   ]
  },
  {
   "cell_type": "code",
   "execution_count": 2,
   "id": "84b9a9bf",
   "metadata": {
    "tags": []
   },
   "outputs": [],
   "source": [
    "# Bringing in API-KEY\n",
    "load_dotenv('./.env')      \n",
    "key = os.getenv(\"API_KEY\")\n"
   ]
  },
  {
   "cell_type": "code",
   "execution_count": 4,
   "id": "6967725f",
   "metadata": {
    "tags": []
   },
   "outputs": [],
   "source": [
    "# These files are sets of transactions by a singular address\n",
    "list_of_files = ['arkham_txns.csv','arkham_txns (1).csv','arkham_txns (2).csv','arkham_txns (3).csv','arkham_txns (4).csv','arkham_txns (5).csv','arkham_txns (6).csv','arkham_txns (7).csv','arkham_txns (8).csv','arkham_txns (9).csv','arkham_txns (10).csv','arkham_txns (11).csv','arkham_txns (12).csv']\n",
    "\n",
    "\n",
    "# We take just the from and to addresses to obtain a longer list of addresses.\n",
    "current_transacts = pd.DataFrame()\n",
    "for i in list_of_files:\n",
    "    df = pd.read_csv(f\"../data/{i}\")\n",
    "    current_transacts = pd.concat([current_transacts, df], ignore_index=True)\n",
    "list_of_addresses = list(current_transacts['fromAddress'])+list(current_transacts['toAddress'])\n"
   ]
  },
  {
   "cell_type": "code",
   "execution_count": 5,
   "id": "c84d5be5-f169-481b-99ae-6acbe5d3b825",
   "metadata": {
    "tags": []
   },
   "outputs": [
    {
     "data": {
      "text/plain": [
       "25"
      ]
     },
     "execution_count": 5,
     "metadata": {},
     "output_type": "execute_result"
    }
   ],
   "source": [
    "# A check of how many address we will be scanning through in this go\n",
    "list_of_addresses = list(set(list_of_addresses))\n",
    "len(list_of_addresses)"
   ]
  },
  {
   "cell_type": "markdown",
   "id": "eab48534",
   "metadata": {},
   "source": [
    "### Pulling Transaction Data\n",
    "---"
   ]
  },
  {
   "cell_type": "code",
   "execution_count": 6,
   "id": "ae818ed2",
   "metadata": {
    "collapsed": true,
    "jupyter": {
     "outputs_hidden": true
    },
    "tags": []
   },
   "outputs": [
    {
     "name": "stdout",
     "output_type": "stream",
     "text": [
      "still going 0x919f9173E2Dc833Ec708812B4f1CB11B1a17eFDe\n",
      "still going 0x14C43dAC1D4268779279679210F24294D7B15Ed2\n",
      "still going 0xD512Bc60EAD7b70c1645b1874eA59f295Ed62279\n",
      "still going 0x8D9c8D005071f86bf557f170A0BBDf6561d4Ec74\n",
      "still going 0x0DBEfc275a81034f13041B3BcAa3Ad1831f10d60\n",
      "still going 0xCD531Ae9EFCCE479654c4926dec5F6209531Ca7b\n",
      "still going 0x21bACe4927263D2F9932a2309bcB55B93590ddC7\n",
      "still going 0x6000da47483062A0D734Ba3dc7576Ce6A0B645C4\n",
      "still going 0xDF90C9B995a3b10A5b8570a47101e6c6a29eb945\n",
      "still going 0x1D68124e65faFC907325e3EDbF8c4d84499DAa8b\n",
      "still going 0x09aea4b2242abC8bb4BB78D537A67a245A7bEC64\n",
      "still going 0x58edF78281334335EfFa23101bBe3371b6a36A51\n",
      "still going 0xeA9946e10d77878B35749D085E38f91207944a5b\n",
      "still going 0xB8614008D759A299cc9498DC6D8f3CD1705d2bA0\n",
      "still going 0x75e89d5979E4f6Fba9F97c104c2F0AFB3F1dcB88\n",
      "still going 0x122D06a722f3ee4AfA33D3b19aba0671bFC98581\n",
      "still going 0xd91eFec7E42f80156d1D9f660a69847188950747\n",
      "still going 0x4E5B2e1dc63F6b91cb6Cd759936495434C7e972F\n",
      "still going 0x9A19D8e6D08f4F0Ff244C14edD31b749A4FbD402\n",
      "still going 0x4051E6709156aA60dAd4bc8EE527c7fd518DC3B6\n",
      "still going 0x27428DD2d3DD32A4D7f7C497eAaa23130d894911\n",
      "still going 0x0439e60F02a8900a951603950d8D4527f400C3f1\n",
      "still going 0x39e24aF3f0c0A18b4f9f3D3C14940F2B62411A89\n",
      "still going 0x9AA0d21F37bfDdDFEaD5dE1bBa7CF7f7736CACfC\n",
      "still going 0x03a520b32C04BF3bEEf7BEb72E919cf822Ed34f1\n"
     ]
    }
   ],
   "source": [
    "url = 'https://api.etherscan.io/api'\n",
    "all_transactions =[]\n",
    "\n",
    "\n",
    "for address in list_of_addresses:\n",
    "\n",
    "\n",
    "    page = 0\n",
    "    while True:\n",
    "        \n",
    "        params = {\n",
    "            'module': 'account',\n",
    "            'action': 'txlist',\n",
    "            'address': address,\n",
    "            'startblock': 0,\n",
    "            'endblock': 99999999,\n",
    "            'page': page,\n",
    "            'offset': 10,\n",
    "            'sort': 'asc',\n",
    "            'apikey': key\n",
    "        }\n",
    "        response = requests.get(url, params=params)\n",
    "        \n",
    "        if response.status_code == 200:\n",
    "            data = response.json()\n",
    "            \n",
    "            if data['result']:\n",
    "                all_transactions.extend(data['result'])\n",
    "                page+=1\n",
    "            else:\n",
    "                break\n",
    "        else:\n",
    "            break\n",
    "    # Status Check\n",
    "    print(f\"still going {address}\")\n",
    "\n",
    "            "
   ]
  },
  {
   "cell_type": "code",
   "execution_count": 7,
   "id": "b95ad8f8",
   "metadata": {
    "tags": []
   },
   "outputs": [
    {
     "data": {
      "text/plain": [
       "176959"
      ]
     },
     "execution_count": 7,
     "metadata": {},
     "output_type": "execute_result"
    }
   ],
   "source": [
    "len(all_transactions) # checking the size of our data"
   ]
  },
  {
   "cell_type": "code",
   "execution_count": 8,
   "id": "64dc5f2d",
   "metadata": {
    "tags": []
   },
   "outputs": [],
   "source": [
    "eth_df = pd.DataFrame(all_transactions) "
   ]
  },
  {
   "cell_type": "code",
   "execution_count": 10,
   "id": "9f8da5a8",
   "metadata": {},
   "outputs": [],
   "source": [
    "eth_df.to_csv('../data/eth_trans_data2.csv')  # due to sheer amount of data I ran this notebook twice pulling half the data each time, the first time was put into eth_trans_data1.csv"
   ]
  },
  {
   "cell_type": "markdown",
   "id": "7ae0a1b6",
   "metadata": {},
   "source": [
    "### Ethereum price over the years\n",
    "---"
   ]
  },
  {
   "cell_type": "code",
   "execution_count": null,
   "id": "c50c9e74",
   "metadata": {},
   "outputs": [
    {
     "name": "stderr",
     "output_type": "stream",
     "text": [
      "[*********************100%%**********************]  1 of 1 completed\n"
     ]
    },
    {
     "data": {
      "text/html": [
       "<div>\n",
       "<style scoped>\n",
       "    .dataframe tbody tr th:only-of-type {\n",
       "        vertical-align: middle;\n",
       "    }\n",
       "\n",
       "    .dataframe tbody tr th {\n",
       "        vertical-align: top;\n",
       "    }\n",
       "\n",
       "    .dataframe thead th {\n",
       "        text-align: right;\n",
       "    }\n",
       "</style>\n",
       "<table border=\"1\" class=\"dataframe\">\n",
       "  <thead>\n",
       "    <tr style=\"text-align: right;\">\n",
       "      <th></th>\n",
       "      <th>Open</th>\n",
       "      <th>High</th>\n",
       "      <th>Low</th>\n",
       "      <th>Close</th>\n",
       "      <th>Adj Close</th>\n",
       "      <th>Volume</th>\n",
       "    </tr>\n",
       "    <tr>\n",
       "      <th>Date</th>\n",
       "      <th></th>\n",
       "      <th></th>\n",
       "      <th></th>\n",
       "      <th></th>\n",
       "      <th></th>\n",
       "      <th></th>\n",
       "    </tr>\n",
       "  </thead>\n",
       "  <tbody>\n",
       "    <tr>\n",
       "      <th>2017-11-09</th>\n",
       "      <td>308.644989</td>\n",
       "      <td>329.451996</td>\n",
       "      <td>307.056000</td>\n",
       "      <td>320.884003</td>\n",
       "      <td>320.884003</td>\n",
       "      <td>893249984</td>\n",
       "    </tr>\n",
       "    <tr>\n",
       "      <th>2017-11-10</th>\n",
       "      <td>320.670990</td>\n",
       "      <td>324.717987</td>\n",
       "      <td>294.541992</td>\n",
       "      <td>299.252991</td>\n",
       "      <td>299.252991</td>\n",
       "      <td>885985984</td>\n",
       "    </tr>\n",
       "    <tr>\n",
       "      <th>2017-11-11</th>\n",
       "      <td>298.585999</td>\n",
       "      <td>319.453003</td>\n",
       "      <td>298.191986</td>\n",
       "      <td>314.681000</td>\n",
       "      <td>314.681000</td>\n",
       "      <td>842300992</td>\n",
       "    </tr>\n",
       "  </tbody>\n",
       "</table>\n",
       "</div>"
      ],
      "text/plain": [
       "                  Open        High         Low       Close   Adj Close  \\\n",
       "Date                                                                     \n",
       "2017-11-09  308.644989  329.451996  307.056000  320.884003  320.884003   \n",
       "2017-11-10  320.670990  324.717987  294.541992  299.252991  299.252991   \n",
       "2017-11-11  298.585999  319.453003  298.191986  314.681000  314.681000   \n",
       "\n",
       "               Volume  \n",
       "Date                   \n",
       "2017-11-09  893249984  \n",
       "2017-11-10  885985984  \n",
       "2017-11-11  842300992  "
      ]
     },
     "execution_count": 151,
     "metadata": {},
     "output_type": "execute_result"
    }
   ],
   "source": [
    "eth_ticker = \"ETH-USD\"\n",
    "\n",
    "start_d = \"2015-08-01\"\n",
    "end_d = \"2024-02-01\"\n",
    "\n",
    "price_eth = yf.download(eth_ticker, start = start_d, end = end_d)"
   ]
  },
  {
   "cell_type": "code",
   "execution_count": null,
   "id": "916b2759",
   "metadata": {},
   "outputs": [],
   "source": [
    "price_eth = price_eth.sort_index()\n",
    "price_eth_close = price_eth['Close']\n",
    "price_eth_close.to_csv('../data/eth_price_per_day.csv')"
   ]
  }
 ],
 "metadata": {
  "kernelspec": {
   "display_name": "Python 3 (ipykernel)",
   "language": "python",
   "name": "python3"
  },
  "language_info": {
   "codemirror_mode": {
    "name": "ipython",
    "version": 3
   },
   "file_extension": ".py",
   "mimetype": "text/x-python",
   "name": "python",
   "nbconvert_exporter": "python",
   "pygments_lexer": "ipython3",
   "version": "3.11.5"
  }
 },
 "nbformat": 4,
 "nbformat_minor": 5
}
