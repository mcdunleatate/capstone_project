{
 "cells": [
  {
   "cell_type": "code",
   "execution_count": 30,
   "id": "0b89159f-ccab-41a2-a4c8-484dde37c748",
   "metadata": {
    "tags": []
   },
   "outputs": [],
   "source": [
    "import requests\n",
    "import secrets\n",
    "import time\n",
    "import os\n",
    "import pandas as pd\n",
    "import numpy as np\n",
    "from dotenv import load_dotenv\n",
    "from bs4 import BeautifulSoup\n",
    "from datetime import datetime\n",
    "import matplotlib.pyplot as plt"
   ]
  },
  {
   "cell_type": "code",
   "execution_count": 11,
   "id": "84b9a9bf",
   "metadata": {
    "tags": []
   },
   "outputs": [],
   "source": [
    "# Bringing in API-KEY\n",
    "load_dotenv('./.env')      \n",
    "key = os.getenv(\"API_KEY\")\n"
   ]
  },
  {
   "cell_type": "code",
   "execution_count": 117,
   "id": "6967725f",
   "metadata": {
    "tags": []
   },
   "outputs": [],
   "source": [
    "list_of_files = ['arkham_txns.csv','arkham_txns (10).csv','arkham_txns (9).csv']#,'arkham_txns (1).csv','arkham_txns (2).csv','arkham_txns (3).csv','arkham_txns (4).csv','arkham_txns (5).csv','arkham_txns (6).csv','arkham_txns (7).csv','arkham_txns (8).csv']\n",
    "\n",
    "current_transacts = pd.DataFrame()\n",
    "for i in list_of_files:\n",
    "    df = pd.read_csv(f\"../data/{i}\")\n",
    "    current_transacts = pd.concat([current_transacts, df], ignore_index=True)\n",
    "list_of_addresses = list(current_transacts['fromAddress'])+list(current_transacts['toAddress'])\n"
   ]
  },
  {
   "cell_type": "code",
   "execution_count": 118,
   "id": "c84d5be5-f169-481b-99ae-6acbe5d3b825",
   "metadata": {
    "tags": []
   },
   "outputs": [
    {
     "data": {
      "text/plain": [
       "20"
      ]
     },
     "execution_count": 118,
     "metadata": {},
     "output_type": "execute_result"
    }
   ],
   "source": [
    "list_of_addresses = list(set(list_of_addresses))\n",
    "len(list_of_addresses)"
   ]
  },
  {
   "cell_type": "code",
   "execution_count": 119,
   "id": "ae818ed2",
   "metadata": {
    "collapsed": true,
    "jupyter": {
     "outputs_hidden": true
    },
    "tags": []
   },
   "outputs": [
    {
     "name": "stdout",
     "output_type": "stream",
     "text": [
      "still going 0x5f4C28B8bAe491157b90a90c7AA57DF7f823343a\n",
      "still going 0xe35e9842fceaCA96570B734083f4a58e8F7C5f2A\n",
      "still going 0x31eF83a530Fde1B38EE9A18093A333D8Bbbc40D5\n",
      "still going 0x7444d1DCde03d554205D8655721C969A89De113F\n",
      "still going 0x0938C63109801Ee4243a487aB84DFfA2Bba4589e\n",
      "still going 0xeCc90d54B10ADd1ab746ABE7E83abe178B72aa9E\n",
      "still going 0xC5C3E9f4eF6Ee08906779DbC3B54896Ed4886a60\n",
      "still going 0xB5Ee21786D28c5Ba61661550879475976B707099\n",
      "still going 0xEB8350EA82b3852e63EFd1c55B2EF3f3BBabB938\n",
      "still going 0x8704EE9AB8622BbC25410C7D4717ED51f776c7f6\n",
      "still going 0xD6cCEDF2aF0e2885673F3e60CC43524333069C42\n",
      "still going 0x7EcAe810B6773b6B416e860acc945b1fAF11943f\n",
      "still going 0xf599C6d0dB97fed9180A163c73E9970c1e981F01\n",
      "still going 0xC25cEf6061Cf5dE5eb761b50E4743c1F5D7E5407\n",
      "still going 0xC4ABADE3a15064F9E3596943c699032748b13352\n",
      "still going 0x5Eb4ED9F745531221FAE41906e11d37642B15da6\n",
      "still going 0x23f53E7dF6fa555340b400dD6A2bd3D594B10BF3\n",
      "still going 0x0000000000000000000000000000000000000000\n",
      "still going 0x32226588378236Fd0c7c4053999F88aC0e5cAc77\n",
      "still going 0x7C68C7866A64FA2160F78EEaE12217FFbf871fa8\n"
     ]
    }
   ],
   "source": [
    "url = 'https://api.etherscan.io/api'\n",
    "all_transactions =[]\n",
    "\n",
    "\n",
    "for address in list_of_addresses:\n",
    "\n",
    "\n",
    "    page = 0\n",
    "    while True:\n",
    "        \n",
    "        params = {\n",
    "            'module': 'account',\n",
    "            'action': 'txlist',\n",
    "            'address': address,\n",
    "            'startblock': 0,\n",
    "            'endblock': 99999999,\n",
    "            'page': page,\n",
    "            'offset': 10,\n",
    "            'sort': 'asc',\n",
    "            'apikey': key\n",
    "        }\n",
    "        response = requests.get(url, params=params)\n",
    "        \n",
    "        if response.status_code == 200:\n",
    "            data = response.json()\n",
    "            \n",
    "            if data['result']:\n",
    "                all_transactions.extend(data['result'])\n",
    "                page+=1\n",
    "            else:\n",
    "                break\n",
    "        else:\n",
    "            break\n",
    "    print(f\"still going {address}\")\n",
    "\n",
    "            "
   ]
  },
  {
   "cell_type": "code",
   "execution_count": 120,
   "id": "b95ad8f8",
   "metadata": {
    "tags": []
   },
   "outputs": [
    {
     "data": {
      "text/plain": [
       "16024"
      ]
     },
     "execution_count": 120,
     "metadata": {},
     "output_type": "execute_result"
    }
   ],
   "source": [
    "len(all_transactions)"
   ]
  },
  {
   "cell_type": "code",
   "execution_count": 121,
   "id": "64dc5f2d",
   "metadata": {
    "tags": []
   },
   "outputs": [],
   "source": [
    "eth_df = pd.DataFrame(all_transactions)"
   ]
  },
  {
   "cell_type": "code",
   "execution_count": 123,
   "id": "071027a5",
   "metadata": {},
   "outputs": [
    {
     "ename": "ValueError",
     "evalue": "could not convert string to float: ''",
     "output_type": "error",
     "traceback": [
      "\u001b[1;31m---------------------------------------------------------------------------\u001b[0m",
      "\u001b[1;31mValueError\u001b[0m                                Traceback (most recent call last)",
      "Cell \u001b[1;32mIn[123], line 2\u001b[0m\n\u001b[0;32m      1\u001b[0m int_list \u001b[38;5;241m=\u001b[39m [\u001b[38;5;124m'\u001b[39m\u001b[38;5;124mblockNumber\u001b[39m\u001b[38;5;124m'\u001b[39m, \u001b[38;5;124m'\u001b[39m\u001b[38;5;124mtimeStamp\u001b[39m\u001b[38;5;124m'\u001b[39m, \u001b[38;5;124m'\u001b[39m\u001b[38;5;124mnonce\u001b[39m\u001b[38;5;124m'\u001b[39m, \u001b[38;5;124m'\u001b[39m\u001b[38;5;124mtransactionIndex\u001b[39m\u001b[38;5;124m'\u001b[39m, \u001b[38;5;124m'\u001b[39m\u001b[38;5;124mgas\u001b[39m\u001b[38;5;124m'\u001b[39m, \u001b[38;5;124m'\u001b[39m\u001b[38;5;124mgasPrice\u001b[39m\u001b[38;5;124m'\u001b[39m, \u001b[38;5;124m'\u001b[39m\u001b[38;5;124misError\u001b[39m\u001b[38;5;124m'\u001b[39m, \u001b[38;5;124m'\u001b[39m\u001b[38;5;124mtxreceipt_status\u001b[39m\u001b[38;5;124m'\u001b[39m, \u001b[38;5;124m'\u001b[39m\u001b[38;5;124mcumulativeGasUsed\u001b[39m\u001b[38;5;124m'\u001b[39m, \u001b[38;5;124m'\u001b[39m\u001b[38;5;124mgasUsed\u001b[39m\u001b[38;5;124m'\u001b[39m, \u001b[38;5;124m'\u001b[39m\u001b[38;5;124mconfirmations\u001b[39m\u001b[38;5;124m'\u001b[39m]\n\u001b[1;32m----> 2\u001b[0m eth_df[int_list] \u001b[38;5;241m=\u001b[39m eth_df[int_list]\u001b[38;5;241m.\u001b[39mastype(\u001b[38;5;28mfloat\u001b[39m)\n\u001b[0;32m      3\u001b[0m eth_df\u001b[38;5;241m.\u001b[39mhead()\n",
      "File \u001b[1;32mc:\\Users\\mcdun\\anaconda3\\Lib\\site-packages\\pandas\\core\\generic.py:6324\u001b[0m, in \u001b[0;36mNDFrame.astype\u001b[1;34m(self, dtype, copy, errors)\u001b[0m\n\u001b[0;32m   6317\u001b[0m     results \u001b[38;5;241m=\u001b[39m [\n\u001b[0;32m   6318\u001b[0m         \u001b[38;5;28mself\u001b[39m\u001b[38;5;241m.\u001b[39miloc[:, i]\u001b[38;5;241m.\u001b[39mastype(dtype, copy\u001b[38;5;241m=\u001b[39mcopy)\n\u001b[0;32m   6319\u001b[0m         \u001b[38;5;28;01mfor\u001b[39;00m i \u001b[38;5;129;01min\u001b[39;00m \u001b[38;5;28mrange\u001b[39m(\u001b[38;5;28mlen\u001b[39m(\u001b[38;5;28mself\u001b[39m\u001b[38;5;241m.\u001b[39mcolumns))\n\u001b[0;32m   6320\u001b[0m     ]\n\u001b[0;32m   6322\u001b[0m \u001b[38;5;28;01melse\u001b[39;00m:\n\u001b[0;32m   6323\u001b[0m     \u001b[38;5;66;03m# else, only a single dtype is given\u001b[39;00m\n\u001b[1;32m-> 6324\u001b[0m     new_data \u001b[38;5;241m=\u001b[39m \u001b[38;5;28mself\u001b[39m\u001b[38;5;241m.\u001b[39m_mgr\u001b[38;5;241m.\u001b[39mastype(dtype\u001b[38;5;241m=\u001b[39mdtype, copy\u001b[38;5;241m=\u001b[39mcopy, errors\u001b[38;5;241m=\u001b[39merrors)\n\u001b[0;32m   6325\u001b[0m     \u001b[38;5;28;01mreturn\u001b[39;00m \u001b[38;5;28mself\u001b[39m\u001b[38;5;241m.\u001b[39m_constructor(new_data)\u001b[38;5;241m.\u001b[39m__finalize__(\u001b[38;5;28mself\u001b[39m, method\u001b[38;5;241m=\u001b[39m\u001b[38;5;124m\"\u001b[39m\u001b[38;5;124mastype\u001b[39m\u001b[38;5;124m\"\u001b[39m)\n\u001b[0;32m   6327\u001b[0m \u001b[38;5;66;03m# GH 33113: handle empty frame or series\u001b[39;00m\n",
      "File \u001b[1;32mc:\\Users\\mcdun\\anaconda3\\Lib\\site-packages\\pandas\\core\\internals\\managers.py:451\u001b[0m, in \u001b[0;36mBaseBlockManager.astype\u001b[1;34m(self, dtype, copy, errors)\u001b[0m\n\u001b[0;32m    448\u001b[0m \u001b[38;5;28;01melif\u001b[39;00m using_copy_on_write():\n\u001b[0;32m    449\u001b[0m     copy \u001b[38;5;241m=\u001b[39m \u001b[38;5;28;01mFalse\u001b[39;00m\n\u001b[1;32m--> 451\u001b[0m \u001b[38;5;28;01mreturn\u001b[39;00m \u001b[38;5;28mself\u001b[39m\u001b[38;5;241m.\u001b[39mapply(\n\u001b[0;32m    452\u001b[0m     \u001b[38;5;124m\"\u001b[39m\u001b[38;5;124mastype\u001b[39m\u001b[38;5;124m\"\u001b[39m,\n\u001b[0;32m    453\u001b[0m     dtype\u001b[38;5;241m=\u001b[39mdtype,\n\u001b[0;32m    454\u001b[0m     copy\u001b[38;5;241m=\u001b[39mcopy,\n\u001b[0;32m    455\u001b[0m     errors\u001b[38;5;241m=\u001b[39merrors,\n\u001b[0;32m    456\u001b[0m     using_cow\u001b[38;5;241m=\u001b[39musing_copy_on_write(),\n\u001b[0;32m    457\u001b[0m )\n",
      "File \u001b[1;32mc:\\Users\\mcdun\\anaconda3\\Lib\\site-packages\\pandas\\core\\internals\\managers.py:352\u001b[0m, in \u001b[0;36mBaseBlockManager.apply\u001b[1;34m(self, f, align_keys, **kwargs)\u001b[0m\n\u001b[0;32m    350\u001b[0m         applied \u001b[38;5;241m=\u001b[39m b\u001b[38;5;241m.\u001b[39mapply(f, \u001b[38;5;241m*\u001b[39m\u001b[38;5;241m*\u001b[39mkwargs)\n\u001b[0;32m    351\u001b[0m     \u001b[38;5;28;01melse\u001b[39;00m:\n\u001b[1;32m--> 352\u001b[0m         applied \u001b[38;5;241m=\u001b[39m \u001b[38;5;28mgetattr\u001b[39m(b, f)(\u001b[38;5;241m*\u001b[39m\u001b[38;5;241m*\u001b[39mkwargs)\n\u001b[0;32m    353\u001b[0m     result_blocks \u001b[38;5;241m=\u001b[39m extend_blocks(applied, result_blocks)\n\u001b[0;32m    355\u001b[0m out \u001b[38;5;241m=\u001b[39m \u001b[38;5;28mtype\u001b[39m(\u001b[38;5;28mself\u001b[39m)\u001b[38;5;241m.\u001b[39mfrom_blocks(result_blocks, \u001b[38;5;28mself\u001b[39m\u001b[38;5;241m.\u001b[39maxes)\n",
      "File \u001b[1;32mc:\\Users\\mcdun\\anaconda3\\Lib\\site-packages\\pandas\\core\\internals\\blocks.py:511\u001b[0m, in \u001b[0;36mBlock.astype\u001b[1;34m(self, dtype, copy, errors, using_cow)\u001b[0m\n\u001b[0;32m    491\u001b[0m \u001b[38;5;250m\u001b[39m\u001b[38;5;124;03m\"\"\"\u001b[39;00m\n\u001b[0;32m    492\u001b[0m \u001b[38;5;124;03mCoerce to the new dtype.\u001b[39;00m\n\u001b[0;32m    493\u001b[0m \n\u001b[1;32m   (...)\u001b[0m\n\u001b[0;32m    507\u001b[0m \u001b[38;5;124;03mBlock\u001b[39;00m\n\u001b[0;32m    508\u001b[0m \u001b[38;5;124;03m\"\"\"\u001b[39;00m\n\u001b[0;32m    509\u001b[0m values \u001b[38;5;241m=\u001b[39m \u001b[38;5;28mself\u001b[39m\u001b[38;5;241m.\u001b[39mvalues\n\u001b[1;32m--> 511\u001b[0m new_values \u001b[38;5;241m=\u001b[39m astype_array_safe(values, dtype, copy\u001b[38;5;241m=\u001b[39mcopy, errors\u001b[38;5;241m=\u001b[39merrors)\n\u001b[0;32m    513\u001b[0m new_values \u001b[38;5;241m=\u001b[39m maybe_coerce_values(new_values)\n\u001b[0;32m    515\u001b[0m refs \u001b[38;5;241m=\u001b[39m \u001b[38;5;28;01mNone\u001b[39;00m\n",
      "File \u001b[1;32mc:\\Users\\mcdun\\anaconda3\\Lib\\site-packages\\pandas\\core\\dtypes\\astype.py:242\u001b[0m, in \u001b[0;36mastype_array_safe\u001b[1;34m(values, dtype, copy, errors)\u001b[0m\n\u001b[0;32m    239\u001b[0m     dtype \u001b[38;5;241m=\u001b[39m dtype\u001b[38;5;241m.\u001b[39mnumpy_dtype\n\u001b[0;32m    241\u001b[0m \u001b[38;5;28;01mtry\u001b[39;00m:\n\u001b[1;32m--> 242\u001b[0m     new_values \u001b[38;5;241m=\u001b[39m astype_array(values, dtype, copy\u001b[38;5;241m=\u001b[39mcopy)\n\u001b[0;32m    243\u001b[0m \u001b[38;5;28;01mexcept\u001b[39;00m (\u001b[38;5;167;01mValueError\u001b[39;00m, \u001b[38;5;167;01mTypeError\u001b[39;00m):\n\u001b[0;32m    244\u001b[0m     \u001b[38;5;66;03m# e.g. _astype_nansafe can fail on object-dtype of strings\u001b[39;00m\n\u001b[0;32m    245\u001b[0m     \u001b[38;5;66;03m#  trying to convert to float\u001b[39;00m\n\u001b[0;32m    246\u001b[0m     \u001b[38;5;28;01mif\u001b[39;00m errors \u001b[38;5;241m==\u001b[39m \u001b[38;5;124m\"\u001b[39m\u001b[38;5;124mignore\u001b[39m\u001b[38;5;124m\"\u001b[39m:\n",
      "File \u001b[1;32mc:\\Users\\mcdun\\anaconda3\\Lib\\site-packages\\pandas\\core\\dtypes\\astype.py:187\u001b[0m, in \u001b[0;36mastype_array\u001b[1;34m(values, dtype, copy)\u001b[0m\n\u001b[0;32m    184\u001b[0m     values \u001b[38;5;241m=\u001b[39m values\u001b[38;5;241m.\u001b[39mastype(dtype, copy\u001b[38;5;241m=\u001b[39mcopy)\n\u001b[0;32m    186\u001b[0m \u001b[38;5;28;01melse\u001b[39;00m:\n\u001b[1;32m--> 187\u001b[0m     values \u001b[38;5;241m=\u001b[39m _astype_nansafe(values, dtype, copy\u001b[38;5;241m=\u001b[39mcopy)\n\u001b[0;32m    189\u001b[0m \u001b[38;5;66;03m# in pandas we don't store numpy str dtypes, so convert to object\u001b[39;00m\n\u001b[0;32m    190\u001b[0m \u001b[38;5;28;01mif\u001b[39;00m \u001b[38;5;28misinstance\u001b[39m(dtype, np\u001b[38;5;241m.\u001b[39mdtype) \u001b[38;5;129;01mand\u001b[39;00m \u001b[38;5;28missubclass\u001b[39m(values\u001b[38;5;241m.\u001b[39mdtype\u001b[38;5;241m.\u001b[39mtype, \u001b[38;5;28mstr\u001b[39m):\n",
      "File \u001b[1;32mc:\\Users\\mcdun\\anaconda3\\Lib\\site-packages\\pandas\\core\\dtypes\\astype.py:138\u001b[0m, in \u001b[0;36m_astype_nansafe\u001b[1;34m(arr, dtype, copy, skipna)\u001b[0m\n\u001b[0;32m    134\u001b[0m     \u001b[38;5;28;01mraise\u001b[39;00m \u001b[38;5;167;01mValueError\u001b[39;00m(msg)\n\u001b[0;32m    136\u001b[0m \u001b[38;5;28;01mif\u001b[39;00m copy \u001b[38;5;129;01mor\u001b[39;00m is_object_dtype(arr\u001b[38;5;241m.\u001b[39mdtype) \u001b[38;5;129;01mor\u001b[39;00m is_object_dtype(dtype):\n\u001b[0;32m    137\u001b[0m     \u001b[38;5;66;03m# Explicit copy, or required since NumPy can't view from / to object.\u001b[39;00m\n\u001b[1;32m--> 138\u001b[0m     \u001b[38;5;28;01mreturn\u001b[39;00m arr\u001b[38;5;241m.\u001b[39mastype(dtype, copy\u001b[38;5;241m=\u001b[39m\u001b[38;5;28;01mTrue\u001b[39;00m)\n\u001b[0;32m    140\u001b[0m \u001b[38;5;28;01mreturn\u001b[39;00m arr\u001b[38;5;241m.\u001b[39mastype(dtype, copy\u001b[38;5;241m=\u001b[39mcopy)\n",
      "\u001b[1;31mValueError\u001b[0m: could not convert string to float: ''"
     ]
    }
   ],
   "source": [
    "int_list = ['blockNumber', 'timeStamp', 'nonce', 'transactionIndex', 'gas', 'gasPrice', 'isError', 'txreceipt_status', 'cumulativeGasUsed', 'gasUsed', 'confirmations']\n",
    "eth_df[int_list] = eth_df[int_list].astype(float)\n",
    "eth_df.head()\n"
   ]
  },
  {
   "cell_type": "code",
   "execution_count": null,
   "id": "351f8df1",
   "metadata": {},
   "outputs": [
    {
     "data": {
      "text/plain": [
       "functionName\n",
       "transfer(address _to, uint256 _value)                                  14610\n",
       "                                                                        5418\n",
       "execute(bytes commands,bytes[] inputs,uint256 deadline)                  108\n",
       "approve(address _spender, uint256 _value)                                 30\n",
       "bridge(string adapterId,address srcToken,uint256 amount,bytes data)       16\n",
       "multicall(bytes[] data)                                                    4\n",
       "deposit()                                                                  2\n",
       "Name: count, dtype: int64"
      ]
     },
     "execution_count": 82,
     "metadata": {},
     "output_type": "execute_result"
    }
   ],
   "source": [
    "eth_df['functionName'].value_counts()"
   ]
  },
  {
   "cell_type": "code",
   "execution_count": null,
   "id": "dc8b4c8d",
   "metadata": {},
   "outputs": [
    {
     "name": "stdout",
     "output_type": "stream",
     "text": [
      "1707174875.0 1616716620.0\n"
     ]
    },
    {
     "data": {
      "image/png": "[encoded data removed]",
      "text/plain": [
       "<Figure size 640x480 with 1 Axes>"
      ]
     },
     "metadata": {},
     "output_type": "display_data"
    }
   ],
   "source": [
    "plt.hist(eth_df['timeStamp'], bins=100);\n",
    "print(max(eth_df['timeStamp']), min(eth_df['timeStamp']))"
   ]
  },
  {
   "cell_type": "code",
   "execution_count": null,
   "id": "4d655b41",
   "metadata": {},
   "outputs": [
    {
     "data": {
      "text/plain": [
       "(20188, 20)"
      ]
     },
     "execution_count": 86,
     "metadata": {},
     "output_type": "execute_result"
    }
   ],
   "source": [
    "eth_df.shape"
   ]
  },
  {
   "cell_type": "code",
   "execution_count": null,
   "id": "47ac3b0d",
   "metadata": {},
   "outputs": [
    {
     "data": {
      "text/html": [
       "<div>\n",
       "<style scoped>\n",
       "    .dataframe tbody tr th:only-of-type {\n",
       "        vertical-align: middle;\n",
       "    }\n",
       "\n",
       "    .dataframe tbody tr th {\n",
       "        vertical-align: top;\n",
       "    }\n",
       "\n",
       "    .dataframe thead th {\n",
       "        text-align: right;\n",
       "    }\n",
       "</style>\n",
       "<table border=\"1\" class=\"dataframe\">\n",
       "  <thead>\n",
       "    <tr style=\"text-align: right;\">\n",
       "      <th></th>\n",
       "      <th>blockNumber</th>\n",
       "      <th>timeStamp</th>\n",
       "      <th>hash</th>\n",
       "      <th>nonce</th>\n",
       "      <th>blockHash</th>\n",
       "      <th>transactionIndex</th>\n",
       "      <th>from</th>\n",
       "      <th>to</th>\n",
       "      <th>value</th>\n",
       "      <th>gas</th>\n",
       "      <th>...</th>\n",
       "      <th>isError</th>\n",
       "      <th>txreceipt_status</th>\n",
       "      <th>input</th>\n",
       "      <th>contractAddress</th>\n",
       "      <th>cumulativeGasUsed</th>\n",
       "      <th>gasUsed</th>\n",
       "      <th>confirmations</th>\n",
       "      <th>methodId</th>\n",
       "      <th>functionName</th>\n",
       "      <th>dateTime</th>\n",
       "    </tr>\n",
       "  </thead>\n",
       "  <tbody>\n",
       "    <tr>\n",
       "      <th>0</th>\n",
       "      <td>19137267.0</td>\n",
       "      <td>1.706835e+09</td>\n",
       "      <td>0x6cf5ed1a19e0778c3d15b2ca6bdeb70f80e76d44a1d9...</td>\n",
       "      <td>61113.0</td>\n",
       "      <td>0x5c526aa4cf6dac588d1f514feeea90f37bce73b83e3b...</td>\n",
       "      <td>132.0</td>\n",
       "      <td>0xcd531ae9efcce479654c4926dec5f6209531ca7b</td>\n",
       "      <td>0x39e24af3f0c0a18b4f9f3d3c14940f2b62411a89</td>\n",
       "      <td>3096317680415402513543</td>\n",
       "      <td>90000.0</td>\n",
       "      <td>...</td>\n",
       "      <td>0.0</td>\n",
       "      <td>1.0</td>\n",
       "      <td>0x</td>\n",
       "      <td></td>\n",
       "      <td>8638867.0</td>\n",
       "      <td>21000.0</td>\n",
       "      <td>42538.0</td>\n",
       "      <td>0x</td>\n",
       "      <td></td>\n",
       "      <td>2024-02-02 00:50:47</td>\n",
       "    </tr>\n",
       "    <tr>\n",
       "      <th>1</th>\n",
       "      <td>19165256.0</td>\n",
       "      <td>1.707175e+09</td>\n",
       "      <td>0xcf23c520db302d5edd877984e46d054db546218cf913...</td>\n",
       "      <td>61574.0</td>\n",
       "      <td>0xdb8d0689e47a28602c383b1610e9afb4896bf5bfc0d1...</td>\n",
       "      <td>130.0</td>\n",
       "      <td>0xcd531ae9efcce479654c4926dec5f6209531ca7b</td>\n",
       "      <td>0x39e24af3f0c0a18b4f9f3d3c14940f2b62411a89</td>\n",
       "      <td>8248431152676167595150</td>\n",
       "      <td>90000.0</td>\n",
       "      <td>...</td>\n",
       "      <td>0.0</td>\n",
       "      <td>1.0</td>\n",
       "      <td>0x</td>\n",
       "      <td></td>\n",
       "      <td>8734164.0</td>\n",
       "      <td>21000.0</td>\n",
       "      <td>14549.0</td>\n",
       "      <td>0x</td>\n",
       "      <td></td>\n",
       "      <td>2024-02-05 23:13:11</td>\n",
       "    </tr>\n",
       "    <tr>\n",
       "      <th>2</th>\n",
       "      <td>19165258.0</td>\n",
       "      <td>1.707175e+09</td>\n",
       "      <td>0x54685182a4fdd43017b8b707084d307dd3941b05a7a6...</td>\n",
       "      <td>61575.0</td>\n",
       "      <td>0x3e4cbbeacd855609b2a2ed4be69aa22c1b7c83c18808...</td>\n",
       "      <td>122.0</td>\n",
       "      <td>0xcd531ae9efcce479654c4926dec5f6209531ca7b</td>\n",
       "      <td>0x39e24af3f0c0a18b4f9f3d3c14940f2b62411a89</td>\n",
       "      <td>5152113472260765081607</td>\n",
       "      <td>90000.0</td>\n",
       "      <td>...</td>\n",
       "      <td>0.0</td>\n",
       "      <td>1.0</td>\n",
       "      <td>0x</td>\n",
       "      <td></td>\n",
       "      <td>8371078.0</td>\n",
       "      <td>21000.0</td>\n",
       "      <td>14547.0</td>\n",
       "      <td>0x</td>\n",
       "      <td></td>\n",
       "      <td>2024-02-05 23:13:35</td>\n",
       "    </tr>\n",
       "    <tr>\n",
       "      <th>3</th>\n",
       "      <td>19165261.0</td>\n",
       "      <td>1.707175e+09</td>\n",
       "      <td>0x93668b95d7ea8ece47d65503c611cdde8f824c908fa5...</td>\n",
       "      <td>61577.0</td>\n",
       "      <td>0x8c697b4658f4a27f097443f5c9d0f1ba9d547555c076...</td>\n",
       "      <td>185.0</td>\n",
       "      <td>0xcd531ae9efcce479654c4926dec5f6209531ca7b</td>\n",
       "      <td>0x39e24af3f0c0a18b4f9f3d3c14940f2b62411a89</td>\n",
       "      <td>8248431152676167595150</td>\n",
       "      <td>90000.0</td>\n",
       "      <td>...</td>\n",
       "      <td>0.0</td>\n",
       "      <td>1.0</td>\n",
       "      <td>0x</td>\n",
       "      <td></td>\n",
       "      <td>17125173.0</td>\n",
       "      <td>21000.0</td>\n",
       "      <td>14544.0</td>\n",
       "      <td>0x</td>\n",
       "      <td></td>\n",
       "      <td>2024-02-05 23:14:11</td>\n",
       "    </tr>\n",
       "    <tr>\n",
       "      <th>4</th>\n",
       "      <td>19165263.0</td>\n",
       "      <td>1.707175e+09</td>\n",
       "      <td>0x2d29a80de68e40ea8ced8cb202f30d1396fc8e726c56...</td>\n",
       "      <td>61578.0</td>\n",
       "      <td>0x546654738e43ebb1f2cbeae54791be552a70c60e8b9d...</td>\n",
       "      <td>107.0</td>\n",
       "      <td>0xcd531ae9efcce479654c4926dec5f6209531ca7b</td>\n",
       "      <td>0x39e24af3f0c0a18b4f9f3d3c14940f2b62411a89</td>\n",
       "      <td>8248431152676167595150</td>\n",
       "      <td>90000.0</td>\n",
       "      <td>...</td>\n",
       "      <td>0.0</td>\n",
       "      <td>1.0</td>\n",
       "      <td>0x</td>\n",
       "      <td></td>\n",
       "      <td>10807177.0</td>\n",
       "      <td>21000.0</td>\n",
       "      <td>14542.0</td>\n",
       "      <td>0x</td>\n",
       "      <td></td>\n",
       "      <td>2024-02-05 23:14:35</td>\n",
       "    </tr>\n",
       "  </tbody>\n",
       "</table>\n",
       "<p>5 rows × 21 columns</p>\n",
       "</div>"
      ],
      "text/plain": [
       "   blockNumber     timeStamp  \\\n",
       "0   19137267.0  1.706835e+09   \n",
       "1   19165256.0  1.707175e+09   \n",
       "2   19165258.0  1.707175e+09   \n",
       "3   19165261.0  1.707175e+09   \n",
       "4   19165263.0  1.707175e+09   \n",
       "\n",
       "                                                hash    nonce  \\\n",
       "0  0x6cf5ed1a19e0778c3d15b2ca6bdeb70f80e76d44a1d9...  61113.0   \n",
       "1  0xcf23c520db302d5edd877984e46d054db546218cf913...  61574.0   \n",
       "2  0x54685182a4fdd43017b8b707084d307dd3941b05a7a6...  61575.0   \n",
       "3  0x93668b95d7ea8ece47d65503c611cdde8f824c908fa5...  61577.0   \n",
       "4  0x2d29a80de68e40ea8ced8cb202f30d1396fc8e726c56...  61578.0   \n",
       "\n",
       "                                           blockHash  transactionIndex  \\\n",
       "0  0x5c526aa4cf6dac588d1f514feeea90f37bce73b83e3b...             132.0   \n",
       "1  0xdb8d0689e47a28602c383b1610e9afb4896bf5bfc0d1...             130.0   \n",
       "2  0x3e4cbbeacd855609b2a2ed4be69aa22c1b7c83c18808...             122.0   \n",
       "3  0x8c697b4658f4a27f097443f5c9d0f1ba9d547555c076...             185.0   \n",
       "4  0x546654738e43ebb1f2cbeae54791be552a70c60e8b9d...             107.0   \n",
       "\n",
       "                                         from  \\\n",
       "0  0xcd531ae9efcce479654c4926dec5f6209531ca7b   \n",
       "1  0xcd531ae9efcce479654c4926dec5f6209531ca7b   \n",
       "2  0xcd531ae9efcce479654c4926dec5f6209531ca7b   \n",
       "3  0xcd531ae9efcce479654c4926dec5f6209531ca7b   \n",
       "4  0xcd531ae9efcce479654c4926dec5f6209531ca7b   \n",
       "\n",
       "                                           to                   value  \\\n",
       "0  0x39e24af3f0c0a18b4f9f3d3c14940f2b62411a89  3096317680415402513543   \n",
       "1  0x39e24af3f0c0a18b4f9f3d3c14940f2b62411a89  8248431152676167595150   \n",
       "2  0x39e24af3f0c0a18b4f9f3d3c14940f2b62411a89  5152113472260765081607   \n",
       "3  0x39e24af3f0c0a18b4f9f3d3c14940f2b62411a89  8248431152676167595150   \n",
       "4  0x39e24af3f0c0a18b4f9f3d3c14940f2b62411a89  8248431152676167595150   \n",
       "\n",
       "       gas  ...  isError  txreceipt_status  input contractAddress  \\\n",
       "0  90000.0  ...      0.0               1.0     0x                   \n",
       "1  90000.0  ...      0.0               1.0     0x                   \n",
       "2  90000.0  ...      0.0               1.0     0x                   \n",
       "3  90000.0  ...      0.0               1.0     0x                   \n",
       "4  90000.0  ...      0.0               1.0     0x                   \n",
       "\n",
       "  cumulativeGasUsed  gasUsed  confirmations  methodId functionName  \\\n",
       "0         8638867.0  21000.0        42538.0        0x                \n",
       "1         8734164.0  21000.0        14549.0        0x                \n",
       "2         8371078.0  21000.0        14547.0        0x                \n",
       "3        17125173.0  21000.0        14544.0        0x                \n",
       "4        10807177.0  21000.0        14542.0        0x                \n",
       "\n",
       "             dateTime  \n",
       "0 2024-02-02 00:50:47  \n",
       "1 2024-02-05 23:13:11  \n",
       "2 2024-02-05 23:13:35  \n",
       "3 2024-02-05 23:14:11  \n",
       "4 2024-02-05 23:14:35  \n",
       "\n",
       "[5 rows x 21 columns]"
      ]
     },
     "execution_count": 91,
     "metadata": {},
     "output_type": "execute_result"
    }
   ],
   "source": [
    "eth_df['dateTime'] = pd.to_datetime(eth_df['timeStamp'], unit='s')\n",
    "eth_df.head()"
   ]
  },
  {
   "cell_type": "code",
   "execution_count": null,
   "id": "3bc9df31",
   "metadata": {},
   "outputs": [
    {
     "data": {
      "text/plain": [
       "(array([1.000e+01, 2.000e+00, 8.000e+00, 5.600e+01, 1.120e+02, 3.600e+01,\n",
       "        5.520e+02, 3.780e+02, 1.620e+02, 1.620e+02, 4.980e+02, 4.960e+02,\n",
       "        1.122e+03, 7.300e+02, 2.376e+03, 1.794e+03, 1.666e+03, 3.392e+03,\n",
       "        2.896e+03, 3.158e+03, 3.940e+02, 0.000e+00, 0.000e+00, 0.000e+00,\n",
       "        0.000e+00, 0.000e+00, 0.000e+00, 0.000e+00, 0.000e+00, 0.000e+00,\n",
       "        0.000e+00, 0.000e+00, 0.000e+00, 0.000e+00, 0.000e+00, 0.000e+00,\n",
       "        0.000e+00, 0.000e+00, 0.000e+00, 0.000e+00, 0.000e+00, 8.000e+00,\n",
       "        4.000e+00, 4.400e+01, 2.400e+01, 7.000e+01, 4.000e+00, 1.400e+01,\n",
       "        8.000e+00, 1.200e+01]),\n",
       " array([18711.99791667, 18732.93732755, 18753.87673843, 18774.81614931,\n",
       "        18795.75556019, 18816.69497106, 18837.63438194, 18858.57379282,\n",
       "        18879.5132037 , 18900.45261458, 18921.39202546, 18942.33143634,\n",
       "        18963.27084722, 18984.2102581 , 19005.14966898, 19026.08907986,\n",
       "        19047.02849074, 19067.96790162, 19088.9073125 , 19109.84672338,\n",
       "        19130.78613426, 19151.72554514, 19172.66495602, 19193.6043669 ,\n",
       "        19214.54377778, 19235.48318866, 19256.42259954, 19277.36201042,\n",
       "        19298.3014213 , 19319.24083218, 19340.18024306, 19361.11965394,\n",
       "        19382.05906481, 19402.99847569, 19423.93788657, 19444.87729745,\n",
       "        19465.81670833, 19486.75611921, 19507.69553009, 19528.63494097,\n",
       "        19549.57435185, 19570.51376273, 19591.45317361, 19612.39258449,\n",
       "        19633.33199537, 19654.27140625, 19675.21081713, 19696.15022801,\n",
       "        19717.08963889, 19738.02904977, 19758.96846065]),\n",
       " <BarContainer object of 50 artists>)"
      ]
     },
     "execution_count": 92,
     "metadata": {},
     "output_type": "execute_result"
    },
    {
     "data": {
      "image/png": "[encoded data removed]",
      "text/plain": [
       "<Figure size 640x480 with 1 Axes>"
      ]
     },
     "metadata": {},
     "output_type": "display_data"
    }
   ],
   "source": [
    "plt.hist(eth_df['dateTime'], bins=50);"
   ]
  },
  {
   "cell_type": "code",
   "execution_count": null,
   "id": "18fa1bbe",
   "metadata": {},
   "outputs": [
    {
     "data": {
      "text/plain": [
       "pandas.core.series.Series"
      ]
     },
     "execution_count": 115,
     "metadata": {},
     "output_type": "execute_result"
    }
   ],
   "source": [
    "eth_df['from'].value_counts()"
   ]
  },
  {
   "cell_type": "code",
   "execution_count": null,
   "id": "a55e12f1",
   "metadata": {},
   "outputs": [
    {
     "data": {
      "text/plain": [
       "(array([328., 350., 136., 120., 136.,  98.,  54., 100., 146., 138., 126.,\n",
       "        174., 154., 182., 178., 254., 360., 546., 318., 320., 376., 348.,\n",
       "        248., 228.]),\n",
       " array([ 0.        ,  0.95833333,  1.91666667,  2.875     ,  3.83333333,\n",
       "         4.79166667,  5.75      ,  6.70833333,  7.66666667,  8.625     ,\n",
       "         9.58333333, 10.54166667, 11.5       , 12.45833333, 13.41666667,\n",
       "        14.375     , 15.33333333, 16.29166667, 17.25      , 18.20833333,\n",
       "        19.16666667, 20.125     , 21.08333333, 22.04166667, 23.        ]),\n",
       " <BarContainer object of 24 artists>)"
      ]
     },
     "execution_count": 102,
     "metadata": {},
     "output_type": "execute_result"
    },
    {
     "data": {
      "image/png": "[encoded data removed]",
      "text/plain": [
       "<Figure size 640x480 with 1 Axes>"
      ]
     },
     "metadata": {},
     "output_type": "display_data"
    }
   ],
   "source": [
    "\n",
    "\n",
    "plt.hist(eth_df.groupby('functionName').get_group('')['hours'], bins=24)"
   ]
  },
  {
   "cell_type": "code",
   "execution_count": null,
   "id": "04e9b7c4",
   "metadata": {},
   "outputs": [
    {
     "data": {
      "image/png": "[encoded data removed]",
      "text/plain": [
       "<Figure size 640x480 with 1 Axes>"
      ]
     },
     "metadata": {},
     "output_type": "display_data"
    }
   ],
   "source": [
    "eth_df['timeOnly'] = eth_df['dateTime'].dt.time\n",
    "eth_df['hours'] = eth_df['timeOnly'].apply(lambda x: x.hour)\n",
    "plt.hist(eth_df['hours'], bins=20, color='skyblue', edgecolor='black')\n",
    "plt.xticks(rotation=45, ha='right');\n"
   ]
  },
  {
   "cell_type": "code",
   "execution_count": null,
   "id": "7ec8207f",
   "metadata": {},
   "outputs": [
    {
     "data": {
      "image/png": "[encoded data removed]",
      "text/plain": [
       "<Figure size 640x480 with 1 Axes>"
      ]
     },
     "metadata": {},
     "output_type": "display_data"
    }
   ],
   "source": [
    "plt.hist(eth_df['value'], bins = 100);\n",
    "\n"
   ]
  },
  {
   "cell_type": "code",
   "execution_count": null,
   "id": "08c2985e",
   "metadata": {},
   "outputs": [
    {
     "name": "stdout",
     "output_type": "stream",
     "text": [
      "<class 'pandas.core.frame.DataFrame'>\n",
      "RangeIndex: 20188 entries, 0 to 20187\n",
      "Data columns (total 20 columns):\n",
      " #   Column             Non-Null Count  Dtype  \n",
      "---  ------             --------------  -----  \n",
      " 0   blockNumber        20188 non-null  float64\n",
      " 1   timeStamp          20188 non-null  float64\n",
      " 2   hash               20188 non-null  object \n",
      " 3   nonce              20188 non-null  float64\n",
      " 4   blockHash          20188 non-null  object \n",
      " 5   transactionIndex   20188 non-null  float64\n",
      " 6   from               20188 non-null  object \n",
      " 7   to                 20188 non-null  object \n",
      " 8   value              20188 non-null  object \n",
      " 9   gas                20188 non-null  float64\n",
      " 10  gasPrice           20188 non-null  float64\n",
      " 11  isError            20188 non-null  float64\n",
      " 12  txreceipt_status   20188 non-null  float64\n",
      " 13  input              20188 non-null  object \n",
      " 14  contractAddress    20188 non-null  object \n",
      " 15  cumulativeGasUsed  20188 non-null  float64\n",
      " 16  gasUsed            20188 non-null  float64\n",
      " 17  confirmations      20188 non-null  float64\n",
      " 18  methodId           20188 non-null  object \n",
      " 19  functionName       20188 non-null  object \n",
      "dtypes: float64(11), object(9)\n",
      "memory usage: 3.1+ MB\n"
     ]
    }
   ],
   "source": [
    "eth_df.info()"
   ]
  },
  {
   "cell_type": "code",
   "execution_count": 124,
   "id": "4b3aea4b",
   "metadata": {},
   "outputs": [],
   "source": [
    "eth_df.to_csv('../data/eth_trans_data.csv')"
   ]
  },
  {
   "cell_type": "code",
   "execution_count": null,
   "id": "c50c9e74",
   "metadata": {},
   "outputs": [],
   "source": []
  }
 ],
 "metadata": {
  "kernelspec": {
   "display_name": "Python 3 (ipykernel)",
   "language": "python",
   "name": "python3"
  },
  "language_info": {
   "codemirror_mode": {
    "name": "ipython",
    "version": 3
   },
   "file_extension": ".py",
   "mimetype": "text/x-python",
   "name": "python",
   "nbconvert_exporter": "python",
   "pygments_lexer": "ipython3",
   "version": "3.11.5"
  }
 },
 "nbformat": 4,
 "nbformat_minor": 5
}
