{
  "cells": [
    {
      "cell_type": "code",
      "execution_count": 1,
      "metadata": {
        "colab": {
          "base_uri": "https://localhost:8080/"
        },
        "id": "7OVFsH7PjYmW",
        "outputId": "7c6e4ec7-e6e4-41ef-ba72-29b791365e03"
      },
      "outputs": [
        {
          "output_type": "stream",
          "name": "stdout",
          "text": [
            "Mounted at /content/drive\n"
          ]
        }
      ],
      "source": [
        "\n",
        "import pandas as pd\n",
        "from sklearn.cluster import DBSCAN\n",
        "from sklearn.preprocessing import StandardScaler\n",
        "from sklearn.metrics import silhouette_score, make_scorer\n",
        "import matplotlib.pyplot as plt\n",
        "import seaborn as sns\n",
        "import numpy as np\n",
        "from sklearn.decomposition import PCA\n",
        "from sklearn.model_selection import GridSearchCV\n",
        "\n",
        "\n",
        "from google.colab import drive\n",
        "drive.mount('/content/drive')"
      ]
    },
    {
      "cell_type": "code",
      "execution_count": 2,
      "metadata": {
        "id": "Xdi2FIZajYmY"
      },
      "outputs": [],
      "source": [
        "trans_data = pd.read_csv('/content/drive/MyDrive/data/eth_trans_data_clean.csv')\n",
        "\n",
        "price_data_merged = pd.read_csv('/content/drive/MyDrive/data/price_data_merged_w_trans_count.csv', index_col = 'Date', parse_dates=True)\n",
        "\n",
        "trans_data = trans_data.sample(frac=0.5, random_state=42)\n",
        "trans_data.dropna(subset=['timeStamp', 'valueUSD','volatility', 'ethValusd',  'perc75_Neg_lag1', 'perc75_Neg_lag2', 'perc75_Neg_lag3', 'get_out_metric'],inplace=True)\n"
      ]
    },
    {
      "cell_type": "code",
      "execution_count": 3,
      "metadata": {
        "colab": {
          "base_uri": "https://localhost:8080/"
        },
        "id": "QQBRicrljYmZ",
        "outputId": "1c5679cc-1865-41ff-e829-b7e62b6a4539"
      },
      "outputs": [
        {
          "output_type": "stream",
          "name": "stdout",
          "text": [
            "<class 'pandas.core.frame.DataFrame'>\n",
            "Int64Index: 116906 entries, 198931 to 34434\n",
            "Data columns (total 31 columns):\n",
            " #   Column             Non-Null Count   Dtype  \n",
            "---  ------             --------------   -----  \n",
            " 0   blockNumber        116906 non-null  int64  \n",
            " 1   timeStamp          116906 non-null  int64  \n",
            " 2   hash               116906 non-null  object \n",
            " 3   nonce              116906 non-null  float64\n",
            " 4   blockHash          116906 non-null  object \n",
            " 5   transactionIndex   116906 non-null  int64  \n",
            " 6   from               116906 non-null  object \n",
            " 7   to                 116900 non-null  object \n",
            " 8   value              116906 non-null  float64\n",
            " 9   gasPrice           116906 non-null  int64  \n",
            " 10  isError            116906 non-null  int64  \n",
            " 11  input              116906 non-null  object \n",
            " 12  contractAddress    116906 non-null  object \n",
            " 13  cumulativeGasUsed  116906 non-null  int64  \n",
            " 14  gasUsed            116906 non-null  int64  \n",
            " 15  confirmations      116906 non-null  int64  \n",
            " 16  methodId           116906 non-null  object \n",
            " 17  functionName       89379 non-null   object \n",
            " 18  dateTime           116906 non-null  object \n",
            " 19  timeOnly           116906 non-null  object \n",
            " 20  dateOnly           116906 non-null  object \n",
            " 21  hoursOftheday      116906 non-null  int64  \n",
            " 22  ethValusd          116906 non-null  float64\n",
            " 23  volatility         116906 non-null  float64\n",
            " 24  dayChange          116906 non-null  float64\n",
            " 25  perc75_Neg         116906 non-null  float64\n",
            " 26  perc75_Neg_lag1    116906 non-null  float64\n",
            " 27  perc75_Neg_lag2    116906 non-null  float64\n",
            " 28  perc75_Neg_lag3    116906 non-null  float64\n",
            " 29  get_out_metric     116906 non-null  float64\n",
            " 30  valueUSD           116906 non-null  float64\n",
            "dtypes: float64(11), int64(9), object(11)\n",
            "memory usage: 28.5+ MB\n"
          ]
        }
      ],
      "source": [
        "trans_data.info()"
      ]
    },
    {
      "cell_type": "code",
      "execution_count": 4,
      "metadata": {
        "id": "iQL05nsKjYmZ"
      },
      "outputs": [],
      "source": [
        "features = ['timeStamp', 'valueUSD','volatility', 'ethValusd',  'perc75_Neg_lag1', 'perc75_Neg_lag2', 'perc75_Neg_lag3', 'get_out_metric']\n"
      ]
    },
    {
      "cell_type": "code",
      "execution_count": 5,
      "metadata": {
        "colab": {
          "base_uri": "https://localhost:8080/"
        },
        "id": "5qMlccERjYmZ",
        "outputId": "a0cc16db-b20f-469d-e56a-d3a990bbeba4"
      },
      "outputs": [
        {
          "output_type": "stream",
          "name": "stderr",
          "text": [
            "<ipython-input-5-6c98d985bba6>:3: SettingWithCopyWarning: \n",
            "A value is trying to be set on a copy of a slice from a DataFrame\n",
            "\n",
            "See the caveats in the documentation: https://pandas.pydata.org/pandas-docs/stable/user_guide/indexing.html#returning-a-view-versus-a-copy\n",
            "  X.dropna(inplace=True)\n"
          ]
        }
      ],
      "source": [
        "X = trans_data[features]\n",
        "pca = PCA(n_components=3)\n",
        "X.dropna(inplace=True)\n",
        "reduced_data = pca.fit_transform(X)\n",
        "ss = StandardScaler()\n",
        "Reduced_scaled = ss.fit_transform(reduced_data)\n"
      ]
    },
    {
      "cell_type": "code",
      "execution_count": 12,
      "metadata": {
        "id": "PTD3bA_cjYma"
      },
      "outputs": [],
      "source": [
        "dbscan = DBSCAN(eps=0.3, min_samples=10, n_jobs=-1, algorithm='ball_tree')\n",
        "labels = dbscan.fit_predict(Reduced_scaled)"
      ]
    },
    {
      "cell_type": "code",
      "source": [
        "set(labels)"
      ],
      "metadata": {
        "colab": {
          "base_uri": "https://localhost:8080/"
        },
        "id": "mpeVI-iPFrfR",
        "outputId": "a1c73efc-0911-471c-9211-b74bda7b7794"
      },
      "execution_count": 13,
      "outputs": [
        {
          "output_type": "execute_result",
          "data": {
            "text/plain": [
              "{-1, 0, 1, 2, 3, 4, 5, 6}"
            ]
          },
          "metadata": {},
          "execution_count": 13
        }
      ]
    },
    {
      "cell_type": "code",
      "execution_count": 14,
      "metadata": {
        "id": "QzZH-yAYjYma"
      },
      "outputs": [],
      "source": [
        "trans_data['cluster_label'] = labels"
      ]
    },
    {
      "cell_type": "code",
      "execution_count": 15,
      "metadata": {
        "colab": {
          "base_uri": "https://localhost:8080/"
        },
        "id": "2UGBDfxzjYma",
        "outputId": "ad841482-87a6-430b-8867-57e0501792cc"
      },
      "outputs": [
        {
          "output_type": "stream",
          "name": "stdout",
          "text": [
            "Silhouette Score: 0.42442995784280807\n"
          ]
        }
      ],
      "source": [
        "silhouette_avg = silhouette_score(Reduced_scaled, labels)\n",
        "print(f\"Silhouette Score: {silhouette_avg}\")"
      ]
    },
    {
      "cell_type": "code",
      "source": [
        "trans_data.to_csv('/content/drive/MyDrive/data/transaction_clustered.csv')"
      ],
      "metadata": {
        "id": "yYDcjZssw6F-"
      },
      "execution_count": 16,
      "outputs": []
    },
    {
      "cell_type": "code",
      "execution_count": 17,
      "metadata": {
        "colab": {
          "base_uri": "https://localhost:8080/",
          "height": 445
        },
        "id": "54AY5yFxjYma",
        "outputId": "cfb28af2-6fbe-4f7c-eb76-9e231de0f10b"
      },
      "outputs": [
        {
          "output_type": "display_data",
          "data": {
            "text/plain": [
              "<Figure size 640x480 with 1 Axes>"
            ],
            "image/png": "[encoded data removed]"
          },
          "metadata": {}
        }
      ],
      "source": [
        "plt.scatter(X['get_out_metric'], X['valueUSD'], c=labels, cmap='cool', marker='o');\n"
      ]
    },
    {
      "cell_type": "markdown",
      "source": [
        "### Price Per Day Clustering\n",
        "---"
      ],
      "metadata": {
        "id": "LTDKqsm5xbRM"
      }
    },
    {
      "cell_type": "code",
      "execution_count": 4,
      "metadata": {
        "colab": {
          "base_uri": "https://localhost:8080/",
          "height": 276
        },
        "id": "Fh6rIdd9jYmb",
        "outputId": "7f6dca15-d5de-48ac-866b-afa414307c9d"
      },
      "outputs": [
        {
          "output_type": "execute_result",
          "data": {
            "text/plain": [
              "                  Close      Close_1      Close_2      Close_3      Close_4  \\\n",
              "Date                                                                          \n",
              "2024-01-27  2267.885986  2257.208740  2317.064209  2344.493652  2282.544434   \n",
              "2024-01-26  2267.199707  2267.885986  2257.208740  2317.064209  2344.493652   \n",
              "2024-01-25  2217.710205  2267.199707  2267.885986  2257.208740  2317.064209   \n",
              "\n",
              "            volatility  dayChange  perc75_Neg  perc75_Neg_lag1  \\\n",
              "Date                                                             \n",
              "2024-01-27   71.736637  10.677246           0              0.0   \n",
              "2024-01-26   58.942905  -0.686279           0              0.0   \n",
              "2024-01-25   53.719713 -49.489502           0              0.0   \n",
              "\n",
              "            perc75_Neg_lag2  ...  0xfff3bab9846675b4fc000601c6865990881dff3d  \\\n",
              "Date                         ...                                               \n",
              "2024-01-27              0.0  ...                                         0.0   \n",
              "2024-01-26              0.0  ...                                         0.0   \n",
              "2024-01-25              0.0  ...                                         0.0   \n",
              "\n",
              "            0xfff401de598bd133cff26be5e79bbee4eed2a0e4  \\\n",
              "Date                                                     \n",
              "2024-01-27                                         0.0   \n",
              "2024-01-26                                         0.0   \n",
              "2024-01-25                                         0.0   \n",
              "\n",
              "            0xfff4520620130fd9dbd7dd0061f3d26eeb945c39  \\\n",
              "Date                                                     \n",
              "2024-01-27                                         0.0   \n",
              "2024-01-26                                         0.0   \n",
              "2024-01-25                                         0.0   \n",
              "\n",
              "            0xfff4f76587c7eadb970b3ffba1cc608882787a42  \\\n",
              "Date                                                     \n",
              "2024-01-27                                         0.0   \n",
              "2024-01-26                                         0.0   \n",
              "2024-01-25                                         0.0   \n",
              "\n",
              "            0xfff841e24c353cd97f6d29cbdc46fb0886217191  \\\n",
              "Date                                                     \n",
              "2024-01-27                                         0.0   \n",
              "2024-01-26                                         0.0   \n",
              "2024-01-25                                         0.0   \n",
              "\n",
              "            0xfffb40347816873ca038756cc87bc610144166b2  \\\n",
              "Date                                                     \n",
              "2024-01-27                                         0.0   \n",
              "2024-01-26                                         0.0   \n",
              "2024-01-25                                         0.0   \n",
              "\n",
              "            0xfffc7d6fa7bd44ebb5b132054c82ad6d23556b3b  \\\n",
              "Date                                                     \n",
              "2024-01-27                                         0.0   \n",
              "2024-01-26                                         0.0   \n",
              "2024-01-25                                         0.0   \n",
              "\n",
              "            0xfffc877a12b4d4a34b8fcf506c71b4a33d844330  \\\n",
              "Date                                                     \n",
              "2024-01-27                                         0.0   \n",
              "2024-01-26                                         0.0   \n",
              "2024-01-25                                         0.0   \n",
              "\n",
              "            0xffff2f58a7e875565b3889fce135300eaceb24ab  GENESIS  \n",
              "Date                                                             \n",
              "2024-01-27                                         0.0      0.0  \n",
              "2024-01-26                                         0.0      0.0  \n",
              "2024-01-25                                         0.0      0.0  \n",
              "\n",
              "[3 rows x 30444 columns]"
            ],
            "text/html": [
              "\n",
              "  <div id=\"df-7a467e71-d7b9-426a-b15b-1eee0e8b98fe\" class=\"colab-df-container\">\n",
              "    <div>\n",
              "<style scoped>\n",
              "    .dataframe tbody tr th:only-of-type {\n",
              "        vertical-align: middle;\n",
              "    }\n",
              "\n",
              "    .dataframe tbody tr th {\n",
              "        vertical-align: top;\n",
              "    }\n",
              "\n",
              "    .dataframe thead th {\n",
              "        text-align: right;\n",
              "    }\n",
              "</style>\n",
              "<table border=\"1\" class=\"dataframe\">\n",
              "  <thead>\n",
              "    <tr style=\"text-align: right;\">\n",
              "      <th></th>\n",
              "      <th>Close</th>\n",
              "      <th>Close_1</th>\n",
              "      <th>Close_2</th>\n",
              "      <th>Close_3</th>\n",
              "      <th>Close_4</th>\n",
              "      <th>volatility</th>\n",
              "      <th>dayChange</th>\n",
              "      <th>perc75_Neg</th>\n",
              "      <th>perc75_Neg_lag1</th>\n",
              "      <th>perc75_Neg_lag2</th>\n",
              "      <th>...</th>\n",
              "      <th>0xfff3bab9846675b4fc000601c6865990881dff3d</th>\n",
              "      <th>0xfff401de598bd133cff26be5e79bbee4eed2a0e4</th>\n",
              "      <th>0xfff4520620130fd9dbd7dd0061f3d26eeb945c39</th>\n",
              "      <th>0xfff4f76587c7eadb970b3ffba1cc608882787a42</th>\n",
              "      <th>0xfff841e24c353cd97f6d29cbdc46fb0886217191</th>\n",
              "      <th>0xfffb40347816873ca038756cc87bc610144166b2</th>\n",
              "      <th>0xfffc7d6fa7bd44ebb5b132054c82ad6d23556b3b</th>\n",
              "      <th>0xfffc877a12b4d4a34b8fcf506c71b4a33d844330</th>\n",
              "      <th>0xffff2f58a7e875565b3889fce135300eaceb24ab</th>\n",
              "      <th>GENESIS</th>\n",
              "    </tr>\n",
              "    <tr>\n",
              "      <th>Date</th>\n",
              "      <th></th>\n",
              "      <th></th>\n",
              "      <th></th>\n",
              "      <th></th>\n",
              "      <th></th>\n",
              "      <th></th>\n",
              "      <th></th>\n",
              "      <th></th>\n",
              "      <th></th>\n",
              "      <th></th>\n",
              "      <th></th>\n",
              "      <th></th>\n",
              "      <th></th>\n",
              "      <th></th>\n",
              "      <th></th>\n",
              "      <th></th>\n",
              "      <th></th>\n",
              "      <th></th>\n",
              "      <th></th>\n",
              "      <th></th>\n",
              "      <th></th>\n",
              "    </tr>\n",
              "  </thead>\n",
              "  <tbody>\n",
              "    <tr>\n",
              "      <th>2024-01-27</th>\n",
              "      <td>2267.885986</td>\n",
              "      <td>2257.208740</td>\n",
              "      <td>2317.064209</td>\n",
              "      <td>2344.493652</td>\n",
              "      <td>2282.544434</td>\n",
              "      <td>71.736637</td>\n",
              "      <td>10.677246</td>\n",
              "      <td>0</td>\n",
              "      <td>0.0</td>\n",
              "      <td>0.0</td>\n",
              "      <td>...</td>\n",
              "      <td>0.0</td>\n",
              "      <td>0.0</td>\n",
              "      <td>0.0</td>\n",
              "      <td>0.0</td>\n",
              "      <td>0.0</td>\n",
              "      <td>0.0</td>\n",
              "      <td>0.0</td>\n",
              "      <td>0.0</td>\n",
              "      <td>0.0</td>\n",
              "      <td>0.0</td>\n",
              "    </tr>\n",
              "    <tr>\n",
              "      <th>2024-01-26</th>\n",
              "      <td>2267.199707</td>\n",
              "      <td>2267.885986</td>\n",
              "      <td>2257.208740</td>\n",
              "      <td>2317.064209</td>\n",
              "      <td>2344.493652</td>\n",
              "      <td>58.942905</td>\n",
              "      <td>-0.686279</td>\n",
              "      <td>0</td>\n",
              "      <td>0.0</td>\n",
              "      <td>0.0</td>\n",
              "      <td>...</td>\n",
              "      <td>0.0</td>\n",
              "      <td>0.0</td>\n",
              "      <td>0.0</td>\n",
              "      <td>0.0</td>\n",
              "      <td>0.0</td>\n",
              "      <td>0.0</td>\n",
              "      <td>0.0</td>\n",
              "      <td>0.0</td>\n",
              "      <td>0.0</td>\n",
              "      <td>0.0</td>\n",
              "    </tr>\n",
              "    <tr>\n",
              "      <th>2024-01-25</th>\n",
              "      <td>2217.710205</td>\n",
              "      <td>2267.199707</td>\n",
              "      <td>2267.885986</td>\n",
              "      <td>2257.208740</td>\n",
              "      <td>2317.064209</td>\n",
              "      <td>53.719713</td>\n",
              "      <td>-49.489502</td>\n",
              "      <td>0</td>\n",
              "      <td>0.0</td>\n",
              "      <td>0.0</td>\n",
              "      <td>...</td>\n",
              "      <td>0.0</td>\n",
              "      <td>0.0</td>\n",
              "      <td>0.0</td>\n",
              "      <td>0.0</td>\n",
              "      <td>0.0</td>\n",
              "      <td>0.0</td>\n",
              "      <td>0.0</td>\n",
              "      <td>0.0</td>\n",
              "      <td>0.0</td>\n",
              "      <td>0.0</td>\n",
              "    </tr>\n",
              "  </tbody>\n",
              "</table>\n",
              "<p>3 rows × 30444 columns</p>\n",
              "</div>\n",
              "    <div class=\"colab-df-buttons\">\n",
              "\n",
              "  <div class=\"colab-df-container\">\n",
              "    <button class=\"colab-df-convert\" onclick=\"convertToInteractive('df-7a467e71-d7b9-426a-b15b-1eee0e8b98fe')\"\n",
              "            title=\"Convert this dataframe to an interactive table.\"\n",
              "            style=\"display:none;\">\n",
              "\n",
              "  <svg xmlns=\"http://www.w3.org/2000/svg\" height=\"24px\" viewBox=\"0 -960 960 960\">\n",
              "    <path d=\"M120-120v-720h720v720H120Zm60-500h600v-160H180v160Zm220 220h160v-160H400v160Zm0 220h160v-160H400v160ZM180-400h160v-160H180v160Zm440 0h160v-160H620v160ZM180-180h160v-160H180v160Zm440 0h160v-160H620v160Z\"/>\n",
              "  </svg>\n",
              "    </button>\n",
              "\n",
              "  <style>\n",
              "    .colab-df-container {\n",
              "      display:flex;\n",
              "      gap: 12px;\n",
              "    }\n",
              "\n",
              "    .colab-df-convert {\n",
              "      background-color: #E8F0FE;\n",
              "      border: none;\n",
              "      border-radius: 50%;\n",
              "      cursor: pointer;\n",
              "      display: none;\n",
              "      fill: #1967D2;\n",
              "      height: 32px;\n",
              "      padding: 0 0 0 0;\n",
              "      width: 32px;\n",
              "    }\n",
              "\n",
              "    .colab-df-convert:hover {\n",
              "      background-color: #E2EBFA;\n",
              "      box-shadow: 0px 1px 2px rgba(60, 64, 67, 0.3), 0px 1px 3px 1px rgba(60, 64, 67, 0.15);\n",
              "      fill: #174EA6;\n",
              "    }\n",
              "\n",
              "    .colab-df-buttons div {\n",
              "      margin-bottom: 4px;\n",
              "    }\n",
              "\n",
              "    [theme=dark] .colab-df-convert {\n",
              "      background-color: #3B4455;\n",
              "      fill: #D2E3FC;\n",
              "    }\n",
              "\n",
              "    [theme=dark] .colab-df-convert:hover {\n",
              "      background-color: #434B5C;\n",
              "      box-shadow: 0px 1px 3px 1px rgba(0, 0, 0, 0.15);\n",
              "      filter: drop-shadow(0px 1px 2px rgba(0, 0, 0, 0.3));\n",
              "      fill: #FFFFFF;\n",
              "    }\n",
              "  </style>\n",
              "\n",
              "    <script>\n",
              "      const buttonEl =\n",
              "        document.querySelector('#df-7a467e71-d7b9-426a-b15b-1eee0e8b98fe button.colab-df-convert');\n",
              "      buttonEl.style.display =\n",
              "        google.colab.kernel.accessAllowed ? 'block' : 'none';\n",
              "\n",
              "      async function convertToInteractive(key) {\n",
              "        const element = document.querySelector('#df-7a467e71-d7b9-426a-b15b-1eee0e8b98fe');\n",
              "        const dataTable =\n",
              "          await google.colab.kernel.invokeFunction('convertToInteractive',\n",
              "                                                    [key], {});\n",
              "        if (!dataTable) return;\n",
              "\n",
              "        const docLinkHtml = 'Like what you see? Visit the ' +\n",
              "          '<a target=\"_blank\" href=https://colab.research.google.com/notebooks/data_table.ipynb>data table notebook</a>'\n",
              "          + ' to learn more about interactive tables.';\n",
              "        element.innerHTML = '';\n",
              "        dataTable['output_type'] = 'display_data';\n",
              "        await google.colab.output.renderOutput(dataTable, element);\n",
              "        const docLink = document.createElement('div');\n",
              "        docLink.innerHTML = docLinkHtml;\n",
              "        element.appendChild(docLink);\n",
              "      }\n",
              "    </script>\n",
              "  </div>\n",
              "\n",
              "\n",
              "<div id=\"df-579df306-059a-4315-a9a4-00595b960acd\">\n",
              "  <button class=\"colab-df-quickchart\" onclick=\"quickchart('df-579df306-059a-4315-a9a4-00595b960acd')\"\n",
              "            title=\"Suggest charts\"\n",
              "            style=\"display:none;\">\n",
              "\n",
              "<svg xmlns=\"http://www.w3.org/2000/svg\" height=\"24px\"viewBox=\"0 0 24 24\"\n",
              "     width=\"24px\">\n",
              "    <g>\n",
              "        <path d=\"M19 3H5c-1.1 0-2 .9-2 2v14c0 1.1.9 2 2 2h14c1.1 0 2-.9 2-2V5c0-1.1-.9-2-2-2zM9 17H7v-7h2v7zm4 0h-2V7h2v10zm4 0h-2v-4h2v4z\"/>\n",
              "    </g>\n",
              "</svg>\n",
              "  </button>\n",
              "\n",
              "<style>\n",
              "  .colab-df-quickchart {\n",
              "      --bg-color: #E8F0FE;\n",
              "      --fill-color: #1967D2;\n",
              "      --hover-bg-color: #E2EBFA;\n",
              "      --hover-fill-color: #174EA6;\n",
              "      --disabled-fill-color: #AAA;\n",
              "      --disabled-bg-color: #DDD;\n",
              "  }\n",
              "\n",
              "  [theme=dark] .colab-df-quickchart {\n",
              "      --bg-color: #3B4455;\n",
              "      --fill-color: #D2E3FC;\n",
              "      --hover-bg-color: #434B5C;\n",
              "      --hover-fill-color: #FFFFFF;\n",
              "      --disabled-bg-color: #3B4455;\n",
              "      --disabled-fill-color: #666;\n",
              "  }\n",
              "\n",
              "  .colab-df-quickchart {\n",
              "    background-color: var(--bg-color);\n",
              "    border: none;\n",
              "    border-radius: 50%;\n",
              "    cursor: pointer;\n",
              "    display: none;\n",
              "    fill: var(--fill-color);\n",
              "    height: 32px;\n",
              "    padding: 0;\n",
              "    width: 32px;\n",
              "  }\n",
              "\n",
              "  .colab-df-quickchart:hover {\n",
              "    background-color: var(--hover-bg-color);\n",
              "    box-shadow: 0 1px 2px rgba(60, 64, 67, 0.3), 0 1px 3px 1px rgba(60, 64, 67, 0.15);\n",
              "    fill: var(--button-hover-fill-color);\n",
              "  }\n",
              "\n",
              "  .colab-df-quickchart-complete:disabled,\n",
              "  .colab-df-quickchart-complete:disabled:hover {\n",
              "    background-color: var(--disabled-bg-color);\n",
              "    fill: var(--disabled-fill-color);\n",
              "    box-shadow: none;\n",
              "  }\n",
              "\n",
              "  .colab-df-spinner {\n",
              "    border: 2px solid var(--fill-color);\n",
              "    border-color: transparent;\n",
              "    border-bottom-color: var(--fill-color);\n",
              "    animation:\n",
              "      spin 1s steps(1) infinite;\n",
              "  }\n",
              "\n",
              "  @keyframes spin {\n",
              "    0% {\n",
              "      border-color: transparent;\n",
              "      border-bottom-color: var(--fill-color);\n",
              "      border-left-color: var(--fill-color);\n",
              "    }\n",
              "    20% {\n",
              "      border-color: transparent;\n",
              "      border-left-color: var(--fill-color);\n",
              "      border-top-color: var(--fill-color);\n",
              "    }\n",
              "    30% {\n",
              "      border-color: transparent;\n",
              "      border-left-color: var(--fill-color);\n",
              "      border-top-color: var(--fill-color);\n",
              "      border-right-color: var(--fill-color);\n",
              "    }\n",
              "    40% {\n",
              "      border-color: transparent;\n",
              "      border-right-color: var(--fill-color);\n",
              "      border-top-color: var(--fill-color);\n",
              "    }\n",
              "    60% {\n",
              "      border-color: transparent;\n",
              "      border-right-color: var(--fill-color);\n",
              "    }\n",
              "    80% {\n",
              "      border-color: transparent;\n",
              "      border-right-color: var(--fill-color);\n",
              "      border-bottom-color: var(--fill-color);\n",
              "    }\n",
              "    90% {\n",
              "      border-color: transparent;\n",
              "      border-bottom-color: var(--fill-color);\n",
              "    }\n",
              "  }\n",
              "</style>\n",
              "\n",
              "  <script>\n",
              "    async function quickchart(key) {\n",
              "      const quickchartButtonEl =\n",
              "        document.querySelector('#' + key + ' button');\n",
              "      quickchartButtonEl.disabled = true;  // To prevent multiple clicks.\n",
              "      quickchartButtonEl.classList.add('colab-df-spinner');\n",
              "      try {\n",
              "        const charts = await google.colab.kernel.invokeFunction(\n",
              "            'suggestCharts', [key], {});\n",
              "      } catch (error) {\n",
              "        console.error('Error during call to suggestCharts:', error);\n",
              "      }\n",
              "      quickchartButtonEl.classList.remove('colab-df-spinner');\n",
              "      quickchartButtonEl.classList.add('colab-df-quickchart-complete');\n",
              "    }\n",
              "    (() => {\n",
              "      let quickchartButtonEl =\n",
              "        document.querySelector('#df-579df306-059a-4315-a9a4-00595b960acd button');\n",
              "      quickchartButtonEl.style.display =\n",
              "        google.colab.kernel.accessAllowed ? 'block' : 'none';\n",
              "    })();\n",
              "  </script>\n",
              "</div>\n",
              "\n",
              "    </div>\n",
              "  </div>\n"
            ],
            "application/vnd.google.colaboratory.intrinsic+json": {
              "type": "dataframe",
              "variable_name": "price_data_merged"
            }
          },
          "metadata": {},
          "execution_count": 4
        }
      ],
      "source": [
        "price_data_merged.head(3)"
      ]
    },
    {
      "cell_type": "code",
      "source": [
        "\n",
        "\n",
        "ss = StandardScaler()\n",
        "price_scaled = ss.fit_transform(price_data_merged)\n"
      ],
      "metadata": {
        "id": "UHIN_R_CvG42"
      },
      "execution_count": 5,
      "outputs": []
    },
    {
      "cell_type": "code",
      "source": [
        "ss = StandardScaler()\n",
        "price_scaled = ss.fit_transform(price_data_merged)\n",
        "\n",
        "dbscan = DBSCAN(eps=0.3, min_samples=3, n_jobs=-1)\n",
        "labels = dbscan.fit_predict(price_scaled)"
      ],
      "metadata": {
        "id": "gkiwoXrCyWna"
      },
      "execution_count": 6,
      "outputs": []
    },
    {
      "cell_type": "code",
      "source": [
        "silhouette_avg = silhouette_score(price_scaled, labels)\n",
        "print(f\"Silhouette Score: {silhouette_avg}\")\n",
        "\n",
        "price_data_merged['cluster'] = labels\n"
      ],
      "metadata": {
        "colab": {
          "base_uri": "https://localhost:8080/"
        },
        "id": "IctWHSsNzlyn",
        "outputId": "f6a850c9-f4f1-4954-d4ad-ada49c1fa23f"
      },
      "execution_count": 7,
      "outputs": [
        {
          "output_type": "stream",
          "name": "stdout",
          "text": [
            "Silhouette Score: -0.36070180915505656\n"
          ]
        }
      ]
    },
    {
      "cell_type": "code",
      "source": [
        "price_data_merged.columns"
      ],
      "metadata": {
        "colab": {
          "base_uri": "https://localhost:8080/"
        },
        "id": "dTFntgt4My5M",
        "outputId": "1e481ee9-2fe7-47db-97fa-449246ee7dee"
      },
      "execution_count": 8,
      "outputs": [
        {
          "output_type": "execute_result",
          "data": {
            "text/plain": [
              "Index(['Close', 'Close_1', 'Close_2', 'Close_3', 'Close_4', 'volatility',\n",
              "       'dayChange', 'perc75_Neg', 'perc75_Neg_lag1', 'perc75_Neg_lag2',\n",
              "       ...\n",
              "       '0xfff401de598bd133cff26be5e79bbee4eed2a0e4',\n",
              "       '0xfff4520620130fd9dbd7dd0061f3d26eeb945c39',\n",
              "       '0xfff4f76587c7eadb970b3ffba1cc608882787a42',\n",
              "       '0xfff841e24c353cd97f6d29cbdc46fb0886217191',\n",
              "       '0xfffb40347816873ca038756cc87bc610144166b2',\n",
              "       '0xfffc7d6fa7bd44ebb5b132054c82ad6d23556b3b',\n",
              "       '0xfffc877a12b4d4a34b8fcf506c71b4a33d844330',\n",
              "       '0xffff2f58a7e875565b3889fce135300eaceb24ab', 'GENESIS', 'cluster'],\n",
              "      dtype='object', length=30445)"
            ]
          },
          "metadata": {},
          "execution_count": 8
        }
      ]
    },
    {
      "cell_type": "code",
      "source": [
        "price_data_merged.to_csv('/content/drive/MyDrive/data/price_data_merged_clustered.csv')\n"
      ],
      "metadata": {
        "id": "l2x1mbQ3yc7N"
      },
      "execution_count": 9,
      "outputs": []
    },
    {
      "cell_type": "code",
      "source": [
        "sns.scatterplot(x = price_data_merged.index, y = price_data_merged['Close'], data = price_data_merged, hue= 'cluster', size= 'cluster');"
      ],
      "metadata": {
        "colab": {
          "base_uri": "https://localhost:8080/",
          "height": 468
        },
        "id": "x9wthO557QjM",
        "outputId": "5b634748-a1ec-45be-afa5-20a2b7751e5b"
      },
      "execution_count": 111,
      "outputs": [
        {
          "output_type": "execute_result",
          "data": {
            "text/plain": [
              "<Axes: xlabel='Date', ylabel='Close'>"
            ]
          },
          "metadata": {},
          "execution_count": 111
        },
        {
          "output_type": "display_data",
          "data": {
            "text/plain": [
              "<Figure size 640x480 with 1 Axes>"
            ],
            "image/png": "[encoded data removed]"
          },
          "metadata": {}
        }
      ]
    },
    {
      "cell_type": "code",
      "source": [
        "price_data_merged.shape"
      ],
      "metadata": {
        "colab": {
          "base_uri": "https://localhost:8080/"
        },
        "id": "a2nlxbe9yoL1",
        "outputId": "cce647d2-1c54-40c2-8d8a-96e1ad7e27fb"
      },
      "execution_count": 81,
      "outputs": [
        {
          "output_type": "execute_result",
          "data": {
            "text/plain": [
              "(2271, 30444)"
            ]
          },
          "metadata": {},
          "execution_count": 81
        }
      ]
    }
  ],
  "metadata": {
    "kernelspec": {
      "display_name": "Python 3",
      "name": "python3"
    },
    "language_info": {
      "codemirror_mode": {
        "name": "ipython",
        "version": 3
      },
      "file_extension": ".py",
      "mimetype": "text/x-python",
      "name": "python",
      "nbconvert_exporter": "python",
      "pygments_lexer": "ipython3",
      "version": "3.11.5"
    },
    "colab": {
      "provenance": [],
      "machine_shape": "hm",
      "gpuType": "V100"
    },
    "accelerator": "GPU"
  },
  "nbformat": 4,
  "nbformat_minor": 0
}