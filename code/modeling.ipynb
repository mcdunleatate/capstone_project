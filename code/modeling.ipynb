{
  "cells": [
    {
      "cell_type": "markdown",
      "metadata": {},
      "source": [
        "# Clustering\n",
        "---"
      ]
    },
    {
      "cell_type": "markdown",
      "metadata": {},
      "source": [
        "1. **Objective:**\n",
        "   - Create a DBSCAN clustering based on every transaction utilizing PCA for dimensionality reduction.\n",
        "\n",
        "2. **Features:**\n",
        "   - ['timeStamp', 'valueUSD', 'volatility', 'ethValusd', 'perc75_Neg_lag1', 'perc75_Neg_lag2', 'perc75_Neg_lag3', 'get_out_metric']\n",
        "\n",
        "3. **Silhouette Score:**\n",
        "   - Achieved a silhouette score of 0.42.\n",
        "\n",
        "## Clustering Based on Transactions Per Day\n",
        "\n",
        "1. **Objective:**\n",
        "   - Create a DBSCAN clustering based on the number of transactions per day.\n",
        "\n",
        "2. **Features:**\n",
        "   - ['Close', 'volatility', 'perc75_Neg'] along with the number of transactions for each address assigned to a particular day.\n",
        "\n",
        "3. **Silhouette Score:**\n",
        "   - Achieved a silhouette score of 0.36."
      ]
    },
    {
      "cell_type": "code",
      "execution_count": 3,
      "metadata": {
        "colab": {
          "base_uri": "https://localhost:8080/"
        },
        "id": "7OVFsH7PjYmW",
        "outputId": "7c6e4ec7-e6e4-41ef-ba72-29b791365e03"
      },
      "outputs": [],
      "source": [
        "\n",
        "import pandas as pd\n",
        "from sklearn.cluster import DBSCAN\n",
        "from sklearn.preprocessing import StandardScaler\n",
        "from sklearn.metrics import silhouette_score, make_scorer\n",
        "import matplotlib.pyplot as plt\n",
        "import seaborn as sns\n",
        "import numpy as np\n",
        "from sklearn.decomposition import PCA\n",
        "from sklearn.model_selection import GridSearchCV\n",
        "\n",
        "\n",
        "from google.colab import drive\n",
        "drive.mount('/content/drive')"
      ]
    },
    {
      "cell_type": "code",
      "execution_count": 2,
      "metadata": {
        "id": "Xdi2FIZajYmY"
      },
      "outputs": [],
      "source": [
        "trans_data = pd.read_csv('/content/drive/MyDrive/data/eth_trans_data_clean.csv')\n",
        "\n",
        "price_data_merged = pd.read_csv('/content/drive/MyDrive/data/price_data_merged_w_trans_count.csv', index_col = 'Date', parse_dates=True)\n",
        "\n",
        "trans_data = trans_data.sample(frac=0.5, random_state=42)\n",
        "trans_data.dropna(subset=['timeStamp', 'valueUSD','volatility', 'ethValusd',  'perc75_Neg_lag1', 'perc75_Neg_lag2', 'perc75_Neg_lag3', 'get_out_metric'],inplace=True)\n"
      ]
    },
    {
      "cell_type": "code",
      "execution_count": 3,
      "metadata": {
        "colab": {
          "base_uri": "https://localhost:8080/"
        },
        "id": "QQBRicrljYmZ",
        "outputId": "1c5679cc-1865-41ff-e829-b7e62b6a4539"
      },
      "outputs": [
        {
          "name": "stdout",
          "output_type": "stream",
          "text": [
            "<class 'pandas.core.frame.DataFrame'>\n",
            "Int64Index: 116906 entries, 198931 to 34434\n",
            "Data columns (total 31 columns):\n",
            " #   Column             Non-Null Count   Dtype  \n",
            "---  ------             --------------   -----  \n",
            " 0   blockNumber        116906 non-null  int64  \n",
            " 1   timeStamp          116906 non-null  int64  \n",
            " 2   hash               116906 non-null  object \n",
            " 3   nonce              116906 non-null  float64\n",
            " 4   blockHash          116906 non-null  object \n",
            " 5   transactionIndex   116906 non-null  int64  \n",
            " 6   from               116906 non-null  object \n",
            " 7   to                 116900 non-null  object \n",
            " 8   value              116906 non-null  float64\n",
            " 9   gasPrice           116906 non-null  int64  \n",
            " 10  isError            116906 non-null  int64  \n",
            " 11  input              116906 non-null  object \n",
            " 12  contractAddress    116906 non-null  object \n",
            " 13  cumulativeGasUsed  116906 non-null  int64  \n",
            " 14  gasUsed            116906 non-null  int64  \n",
            " 15  confirmations      116906 non-null  int64  \n",
            " 16  methodId           116906 non-null  object \n",
            " 17  functionName       89379 non-null   object \n",
            " 18  dateTime           116906 non-null  object \n",
            " 19  timeOnly           116906 non-null  object \n",
            " 20  dateOnly           116906 non-null  object \n",
            " 21  hoursOftheday      116906 non-null  int64  \n",
            " 22  ethValusd          116906 non-null  float64\n",
            " 23  volatility         116906 non-null  float64\n",
            " 24  dayChange          116906 non-null  float64\n",
            " 25  perc75_Neg         116906 non-null  float64\n",
            " 26  perc75_Neg_lag1    116906 non-null  float64\n",
            " 27  perc75_Neg_lag2    116906 non-null  float64\n",
            " 28  perc75_Neg_lag3    116906 non-null  float64\n",
            " 29  get_out_metric     116906 non-null  float64\n",
            " 30  valueUSD           116906 non-null  float64\n",
            "dtypes: float64(11), int64(9), object(11)\n",
            "memory usage: 28.5+ MB\n"
          ]
        }
      ],
      "source": [
        "trans_data.info()"
      ]
    },
    {
      "cell_type": "code",
      "execution_count": 4,
      "metadata": {
        "id": "iQL05nsKjYmZ"
      },
      "outputs": [],
      "source": [
        "features = ['timeStamp', 'valueUSD','volatility', 'ethValusd',  'perc75_Neg_lag1', 'perc75_Neg_lag2', 'perc75_Neg_lag3', 'get_out_metric']"
      ]
    },
    {
      "cell_type": "code",
      "execution_count": 5,
      "metadata": {
        "colab": {
          "base_uri": "https://localhost:8080/"
        },
        "id": "5qMlccERjYmZ",
        "outputId": "a0cc16db-b20f-469d-e56a-d3a990bbeba4"
      },
      "outputs": [
        {
          "name": "stderr",
          "output_type": "stream",
          "text": [
            "<ipython-input-5-6c98d985bba6>:3: SettingWithCopyWarning: \n",
            "A value is trying to be set on a copy of a slice from a DataFrame\n",
            "\n",
            "See the caveats in the documentation: https://pandas.pydata.org/pandas-docs/stable/user_guide/indexing.html#returning-a-view-versus-a-copy\n",
            "  X.dropna(inplace=True)\n"
          ]
        }
      ],
      "source": [
        "X = trans_data[features]\n",
        "pca = PCA(n_components=3)\n",
        "X.dropna(inplace=True)\n",
        "reduced_data = pca.fit_transform(X)\n",
        "ss = StandardScaler()\n",
        "Reduced_scaled = ss.fit_transform(reduced_data)"
      ]
    },
    {
      "cell_type": "code",
      "execution_count": 12,
      "metadata": {
        "id": "PTD3bA_cjYma"
      },
      "outputs": [],
      "source": [
        "dbscan = DBSCAN(eps=0.3, min_samples=10, n_jobs=-1, algorithm='ball_tree')\n",
        "labels = dbscan.fit_predict(Reduced_scaled)"
      ]
    },
    {
      "cell_type": "code",
      "execution_count": 13,
      "metadata": {
        "colab": {
          "base_uri": "https://localhost:8080/"
        },
        "id": "mpeVI-iPFrfR",
        "outputId": "a1c73efc-0911-471c-9211-b74bda7b7794"
      },
      "outputs": [
        {
          "data": {
            "text/plain": [
              "{-1, 0, 1, 2, 3, 4, 5, 6}"
            ]
          },
          "execution_count": 13,
          "metadata": {},
          "output_type": "execute_result"
        }
      ],
      "source": [
        "set(labels)"
      ]
    },
    {
      "cell_type": "code",
      "execution_count": 14,
      "metadata": {
        "id": "QzZH-yAYjYma"
      },
      "outputs": [],
      "source": [
        "trans_data['cluster_label'] = labels"
      ]
    },
    {
      "cell_type": "code",
      "execution_count": 15,
      "metadata": {
        "colab": {
          "base_uri": "https://localhost:8080/"
        },
        "id": "2UGBDfxzjYma",
        "outputId": "ad841482-87a6-430b-8867-57e0501792cc"
      },
      "outputs": [
        {
          "name": "stdout",
          "output_type": "stream",
          "text": [
            "Silhouette Score: 0.42442995784280807\n"
          ]
        }
      ],
      "source": [
        "silhouette_avg = silhouette_score(Reduced_scaled, labels)\n",
        "print(f\"Silhouette Score: {silhouette_avg}\")"
      ]
    },
    {
      "cell_type": "code",
      "execution_count": 16,
      "metadata": {
        "id": "yYDcjZssw6F-"
      },
      "outputs": [],
      "source": [
        "trans_data.to_csv('/content/drive/MyDrive/data/transaction_clustered.csv')"
      ]
    },
    {
      "cell_type": "markdown",
      "metadata": {
        "id": "LTDKqsm5xbRM"
      },
      "source": [
        "### Price Per Day Clustering\n",
        "---"
      ]
    },
    {
      "cell_type": "code",
      "execution_count": 5,
      "metadata": {
        "colab": {
          "base_uri": "https://localhost:8080/",
          "height": 276
        },
        "id": "Fh6rIdd9jYmb",
        "outputId": "7f6dca15-d5de-48ac-866b-afa414307c9d"
      },
      "outputs": [
        {
          "data": {
            "text/html": [
              "<div>\n",
              "<style scoped>\n",
              "    .dataframe tbody tr th:only-of-type {\n",
              "        vertical-align: middle;\n",
              "    }\n",
              "\n",
              "    .dataframe tbody tr th {\n",
              "        vertical-align: top;\n",
              "    }\n",
              "\n",
              "    .dataframe thead th {\n",
              "        text-align: right;\n",
              "    }\n",
              "</style>\n",
              "<table border=\"1\" class=\"dataframe\">\n",
              "  <thead>\n",
              "    <tr style=\"text-align: right;\">\n",
              "      <th></th>\n",
              "      <th>Close</th>\n",
              "      <th>Close_1</th>\n",
              "      <th>Close_2</th>\n",
              "      <th>Close_3</th>\n",
              "      <th>Close_4</th>\n",
              "      <th>volatility</th>\n",
              "      <th>dayChange</th>\n",
              "      <th>perc75_Neg</th>\n",
              "      <th>perc75_Neg_lag1</th>\n",
              "      <th>perc75_Neg_lag2</th>\n",
              "      <th>...</th>\n",
              "      <th>0xfff3bab9846675b4fc000601c6865990881dff3d</th>\n",
              "      <th>0xfff401de598bd133cff26be5e79bbee4eed2a0e4</th>\n",
              "      <th>0xfff4520620130fd9dbd7dd0061f3d26eeb945c39</th>\n",
              "      <th>0xfff4f76587c7eadb970b3ffba1cc608882787a42</th>\n",
              "      <th>0xfff841e24c353cd97f6d29cbdc46fb0886217191</th>\n",
              "      <th>0xfffb40347816873ca038756cc87bc610144166b2</th>\n",
              "      <th>0xfffc7d6fa7bd44ebb5b132054c82ad6d23556b3b</th>\n",
              "      <th>0xfffc877a12b4d4a34b8fcf506c71b4a33d844330</th>\n",
              "      <th>0xffff2f58a7e875565b3889fce135300eaceb24ab</th>\n",
              "      <th>GENESIS</th>\n",
              "    </tr>\n",
              "    <tr>\n",
              "      <th>Date</th>\n",
              "      <th></th>\n",
              "      <th></th>\n",
              "      <th></th>\n",
              "      <th></th>\n",
              "      <th></th>\n",
              "      <th></th>\n",
              "      <th></th>\n",
              "      <th></th>\n",
              "      <th></th>\n",
              "      <th></th>\n",
              "      <th></th>\n",
              "      <th></th>\n",
              "      <th></th>\n",
              "      <th></th>\n",
              "      <th></th>\n",
              "      <th></th>\n",
              "      <th></th>\n",
              "      <th></th>\n",
              "      <th></th>\n",
              "      <th></th>\n",
              "      <th></th>\n",
              "    </tr>\n",
              "  </thead>\n",
              "  <tbody>\n",
              "    <tr>\n",
              "      <th>2024-01-27</th>\n",
              "      <td>2267.885986</td>\n",
              "      <td>2257.208740</td>\n",
              "      <td>2317.064209</td>\n",
              "      <td>2344.493652</td>\n",
              "      <td>2282.544434</td>\n",
              "      <td>71.736637</td>\n",
              "      <td>10.677246</td>\n",
              "      <td>0</td>\n",
              "      <td>0.0</td>\n",
              "      <td>0.0</td>\n",
              "      <td>...</td>\n",
              "      <td>0.0</td>\n",
              "      <td>0.0</td>\n",
              "      <td>0.0</td>\n",
              "      <td>0.0</td>\n",
              "      <td>0.0</td>\n",
              "      <td>0.0</td>\n",
              "      <td>0.0</td>\n",
              "      <td>0.0</td>\n",
              "      <td>0.0</td>\n",
              "      <td>0.0</td>\n",
              "    </tr>\n",
              "    <tr>\n",
              "      <th>2024-01-26</th>\n",
              "      <td>2267.199707</td>\n",
              "      <td>2267.885986</td>\n",
              "      <td>2257.208740</td>\n",
              "      <td>2317.064209</td>\n",
              "      <td>2344.493652</td>\n",
              "      <td>58.942905</td>\n",
              "      <td>-0.686279</td>\n",
              "      <td>0</td>\n",
              "      <td>0.0</td>\n",
              "      <td>0.0</td>\n",
              "      <td>...</td>\n",
              "      <td>0.0</td>\n",
              "      <td>0.0</td>\n",
              "      <td>0.0</td>\n",
              "      <td>0.0</td>\n",
              "      <td>0.0</td>\n",
              "      <td>0.0</td>\n",
              "      <td>0.0</td>\n",
              "      <td>0.0</td>\n",
              "      <td>0.0</td>\n",
              "      <td>0.0</td>\n",
              "    </tr>\n",
              "    <tr>\n",
              "      <th>2024-01-25</th>\n",
              "      <td>2217.710205</td>\n",
              "      <td>2267.199707</td>\n",
              "      <td>2267.885986</td>\n",
              "      <td>2257.208740</td>\n",
              "      <td>2317.064209</td>\n",
              "      <td>53.719713</td>\n",
              "      <td>-49.489502</td>\n",
              "      <td>0</td>\n",
              "      <td>0.0</td>\n",
              "      <td>0.0</td>\n",
              "      <td>...</td>\n",
              "      <td>0.0</td>\n",
              "      <td>0.0</td>\n",
              "      <td>0.0</td>\n",
              "      <td>0.0</td>\n",
              "      <td>0.0</td>\n",
              "      <td>0.0</td>\n",
              "      <td>0.0</td>\n",
              "      <td>0.0</td>\n",
              "      <td>0.0</td>\n",
              "      <td>0.0</td>\n",
              "    </tr>\n",
              "  </tbody>\n",
              "</table>\n",
              "<p>3 rows × 30444 columns</p>\n",
              "</div>"
            ],
            "text/plain": [
              "                  Close      Close_1      Close_2      Close_3      Close_4  \\\n",
              "Date                                                                          \n",
              "2024-01-27  2267.885986  2257.208740  2317.064209  2344.493652  2282.544434   \n",
              "2024-01-26  2267.199707  2267.885986  2257.208740  2317.064209  2344.493652   \n",
              "2024-01-25  2217.710205  2267.199707  2267.885986  2257.208740  2317.064209   \n",
              "\n",
              "            volatility  dayChange  perc75_Neg  perc75_Neg_lag1  \\\n",
              "Date                                                             \n",
              "2024-01-27   71.736637  10.677246           0              0.0   \n",
              "2024-01-26   58.942905  -0.686279           0              0.0   \n",
              "2024-01-25   53.719713 -49.489502           0              0.0   \n",
              "\n",
              "            perc75_Neg_lag2  ...  0xfff3bab9846675b4fc000601c6865990881dff3d  \\\n",
              "Date                         ...                                               \n",
              "2024-01-27              0.0  ...                                         0.0   \n",
              "2024-01-26              0.0  ...                                         0.0   \n",
              "2024-01-25              0.0  ...                                         0.0   \n",
              "\n",
              "            0xfff401de598bd133cff26be5e79bbee4eed2a0e4  \\\n",
              "Date                                                     \n",
              "2024-01-27                                         0.0   \n",
              "2024-01-26                                         0.0   \n",
              "2024-01-25                                         0.0   \n",
              "\n",
              "            0xfff4520620130fd9dbd7dd0061f3d26eeb945c39  \\\n",
              "Date                                                     \n",
              "2024-01-27                                         0.0   \n",
              "2024-01-26                                         0.0   \n",
              "2024-01-25                                         0.0   \n",
              "\n",
              "            0xfff4f76587c7eadb970b3ffba1cc608882787a42  \\\n",
              "Date                                                     \n",
              "2024-01-27                                         0.0   \n",
              "2024-01-26                                         0.0   \n",
              "2024-01-25                                         0.0   \n",
              "\n",
              "            0xfff841e24c353cd97f6d29cbdc46fb0886217191  \\\n",
              "Date                                                     \n",
              "2024-01-27                                         0.0   \n",
              "2024-01-26                                         0.0   \n",
              "2024-01-25                                         0.0   \n",
              "\n",
              "            0xfffb40347816873ca038756cc87bc610144166b2  \\\n",
              "Date                                                     \n",
              "2024-01-27                                         0.0   \n",
              "2024-01-26                                         0.0   \n",
              "2024-01-25                                         0.0   \n",
              "\n",
              "            0xfffc7d6fa7bd44ebb5b132054c82ad6d23556b3b  \\\n",
              "Date                                                     \n",
              "2024-01-27                                         0.0   \n",
              "2024-01-26                                         0.0   \n",
              "2024-01-25                                         0.0   \n",
              "\n",
              "            0xfffc877a12b4d4a34b8fcf506c71b4a33d844330  \\\n",
              "Date                                                     \n",
              "2024-01-27                                         0.0   \n",
              "2024-01-26                                         0.0   \n",
              "2024-01-25                                         0.0   \n",
              "\n",
              "            0xffff2f58a7e875565b3889fce135300eaceb24ab  GENESIS  \n",
              "Date                                                             \n",
              "2024-01-27                                         0.0      0.0  \n",
              "2024-01-26                                         0.0      0.0  \n",
              "2024-01-25                                         0.0      0.0  \n",
              "\n",
              "[3 rows x 30444 columns]"
            ]
          },
          "execution_count": 5,
          "metadata": {},
          "output_type": "execute_result"
        }
      ],
      "source": [
        "price_data_merged.head(3)"
      ]
    },
    {
      "cell_type": "code",
      "execution_count": 6,
      "metadata": {
        "id": "UHIN_R_CvG42"
      },
      "outputs": [],
      "source": [
        "ss = StandardScaler()\n",
        "price_scaled = ss.fit_transform(price_data_merged)"
      ]
    },
    {
      "cell_type": "code",
      "execution_count": 7,
      "metadata": {
        "id": "gkiwoXrCyWna"
      },
      "outputs": [],
      "source": [
        "ss = StandardScaler()\n",
        "price_scaled = ss.fit_transform(price_data_merged)\n",
        "\n",
        "dbscan = DBSCAN(eps=0.3, min_samples=3, n_jobs=-1)\n",
        "labels = dbscan.fit_predict(price_scaled)"
      ]
    },
    {
      "cell_type": "code",
      "execution_count": 8,
      "metadata": {
        "colab": {
          "base_uri": "https://localhost:8080/"
        },
        "id": "IctWHSsNzlyn",
        "outputId": "f6a850c9-f4f1-4954-d4ad-ada49c1fa23f"
      },
      "outputs": [
        {
          "name": "stdout",
          "output_type": "stream",
          "text": [
            "Silhouette Score: -0.36070180915506894\n"
          ]
        }
      ],
      "source": [
        "silhouette_avg = silhouette_score(price_scaled, labels)\n",
        "print(f\"Silhouette Score: {silhouette_avg}\")\n",
        "\n",
        "price_data_merged['cluster'] = labels"
      ]
    },
    {
      "cell_type": "code",
      "execution_count": 9,
      "metadata": {
        "colab": {
          "base_uri": "https://localhost:8080/"
        },
        "id": "dTFntgt4My5M",
        "outputId": "1e481ee9-2fe7-47db-97fa-449246ee7dee"
      },
      "outputs": [
        {
          "data": {
            "text/plain": [
              "{-1, 0, 1, 2, 3, 4, 5, 6, 7, 8, 9, 10, 11, 12, 13}"
            ]
          },
          "execution_count": 9,
          "metadata": {},
          "output_type": "execute_result"
        }
      ],
      "source": [
        "set(labels)"
      ]
    },
    {
      "cell_type": "code",
      "execution_count": 9,
      "metadata": {
        "id": "l2x1mbQ3yc7N"
      },
      "outputs": [],
      "source": [
        "price_data_merged.to_csv('/content/drive/MyDrive/data/price_data_merged_clustered.csv')"
      ]
    }
  ],
  "metadata": {
    "accelerator": "GPU",
    "colab": {
      "gpuType": "V100",
      "machine_shape": "hm",
      "provenance": []
    },
    "kernelspec": {
      "display_name": "Python 3",
      "name": "python3"
    },
    "language_info": {
      "codemirror_mode": {
        "name": "ipython",
        "version": 3
      },
      "file_extension": ".py",
      "mimetype": "text/x-python",
      "name": "python",
      "nbconvert_exporter": "python",
      "pygments_lexer": "ipython3",
      "version": "3.11.5"
    }
  },
  "nbformat": 4,
  "nbformat_minor": 0
}
