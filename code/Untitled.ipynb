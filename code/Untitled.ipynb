{
 "cells": [
  {
   "cell_type": "code",
   "execution_count": 52,
   "id": "0b89159f-ccab-41a2-a4c8-484dde37c748",
   "metadata": {
    "tags": []
   },
   "outputs": [],
   "source": [
    "import requests\n",
    "import secrets\n",
    "import time\n",
    "from bs4 import BeautifulSoup"
   ]
  },
  {
   "cell_type": "code",
   "execution_count": 35,
   "id": "1204032e-5b25-4320-a85b-4cb68383f0ef",
   "metadata": {
    "tags": []
   },
   "outputs": [],
   "source": [
    "def generate_random_ethereum_address():\n",
    "   \n",
    "    random_hex = secrets.token_hex(20)\n",
    "\n",
    "    ethereum_address = f\"0x{random_hex}\"\n",
    "\n",
    "    return ethereum_address"
   ]
  },
  {
   "cell_type": "code",
   "execution_count": 39,
   "id": "3df8bda4-44ca-42d8-92ba-6125f0e6cda9",
   "metadata": {
    "tags": []
   },
   "outputs": [
    {
     "data": {
      "text/plain": [
       "'0x304c2bec8f7fe56c9aa28dd24d39541d3bd11241'"
      ]
     },
     "execution_count": 39,
     "metadata": {},
     "output_type": "execute_result"
    }
   ],
   "source": [
    "generate_random_ethereum_address()"
   ]
  },
  {
   "cell_type": "code",
   "execution_count": null,
   "id": "093a264f-da45-488e-864f-5e187999824d",
   "metadata": {
    "tags": []
   },
   "outputs": [],
   "source": [
    "flag = True\n",
    "\n",
    "while flag:\n",
    "    # time.sleep(0.19)\n",
    "    \n",
    "    url = 'https://api.etherscan.io/api'\n",
    "    key = '3YU96HE5J4TZR22PTXFGXWUUX4RMF4UA38'\n",
    "    address = generate_random_ethereum_address()\n",
    "    params = {\n",
    "        'module': 'account',\n",
    "        'action': 'txlist',\n",
    "        'address': address,\n",
    "        'startblock': 0,\n",
    "        'endblock': 99999999,\n",
    "        'page': 1,\n",
    "        'offset': 10,\n",
    "        'sort': 'asc',\n",
    "        'apikey': key\n",
    "    }\n",
    "    response = requests.get(url, params=params)\n",
    "    \n",
    "    if response.json()['status'] == 1:\n",
    "        flag = False"
   ]
  },
  {
   "cell_type": "code",
   "execution_count": 49,
   "id": "abfec066-8ad1-4a1d-8321-203321cbf35e",
   "metadata": {
    "tags": []
   },
   "outputs": [],
   "source": [
    "response = requests.get(url, params=params)"
   ]
  },
  {
   "cell_type": "code",
   "execution_count": 50,
   "id": "944f173f-6ae8-452d-8671-17ec95899730",
   "metadata": {
    "tags": []
   },
   "outputs": [],
   "source": [
    "if response.status_code == 200:\n",
    "    \n",
    "    soup = BeautifulSoup(response.text, 'html.parser')"
   ]
  },
  {
   "cell_type": "code",
   "execution_count": 54,
   "id": "2e7e7d74-a48f-4849-972b-86c11f834b26",
   "metadata": {
    "tags": []
   },
   "outputs": [
    {
     "data": {
      "text/plain": [
       "{\"status\":\"0\",\"message\":\"No transactions found\",\"result\":[]}"
      ]
     },
     "execution_count": 54,
     "metadata": {},
     "output_type": "execute_result"
    }
   ],
   "source": [
    "soup[]"
   ]
  },
  {
   "cell_type": "code",
   "execution_count": 59,
   "id": "225ac74f-8a7d-4b28-b3e0-26bbb00f8864",
   "metadata": {
    "tags": []
   },
   "outputs": [],
   "source": [
    "soup.get(\"status\")"
   ]
  },
  {
   "cell_type": "code",
   "execution_count": 60,
   "id": "002805b7-0627-4bd9-be2b-0c94f8f1994a",
   "metadata": {
    "tags": []
   },
   "outputs": [
    {
     "data": {
      "text/plain": [
       "'0'"
      ]
     },
     "execution_count": 60,
     "metadata": {},
     "output_type": "execute_result"
    }
   ],
   "source": [
    "response.json()['status']"
   ]
  },
  {
   "cell_type": "code",
   "execution_count": null,
   "id": "2744da1f-b176-4e78-bbd4-23c014ed14cc",
   "metadata": {},
   "outputs": [],
   "source": []
  },
  {
   "cell_type": "code",
   "execution_count": null,
   "id": "98358acf-1777-4e2f-9fe4-11e42e623a74",
   "metadata": {},
   "outputs": [],
   "source": [
    "https://api.etherscan.io/api"
   ]
  }
 ],
 "metadata": {
  "kernelspec": {
   "display_name": "Python 3 (ipykernel)",
   "language": "python",
   "name": "python3"
  },
  "language_info": {
   "codemirror_mode": {
    "name": "ipython",
    "version": 3
   },
   "file_extension": ".py",
   "mimetype": "text/x-python",
   "name": "python",
   "nbconvert_exporter": "python",
   "pygments_lexer": "ipython3",
   "version": "3.11.5"
  }
 },
 "nbformat": 4,
 "nbformat_minor": 5
}
